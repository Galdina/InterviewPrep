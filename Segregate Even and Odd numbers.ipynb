{
 "cells": [
  {
   "cell_type": "markdown",
   "metadata": {},
   "source": [
    "Given an array A[], write a function that segregates even and odd numbers. The functions should put all even numbers first, and then odd numbers. \n",
    "\n",
    "### Example: \n",
    "\n",
    "Input  = {12, 34, 45, 9, 8, 90, 3}\n",
    "\n",
    "Output = {12, 34, 8, 90, 45, 9, 3}\n",
    "\n",
    "In the output, the order of numbers can be changed, i.e., in the above example, 34 can come before 12 and 3 can come before 9.\n"
   ]
  },
  {
   "cell_type": "markdown",
   "metadata": {},
   "source": [
    "Algorithm: \n",
    "1) Initialize two index variables left and right:  \n",
    "            left = 0,  right = size -1 \\\n",
    "2) Keep incrementing left index until we see an odd number.\\\n",
    "3) Keep decrementing right index until we see an even number.\\\n",
    "4) If lef < right then swap arr[left] and arr[right]"
   ]
  },
  {
   "cell_type": "code",
   "execution_count": 4,
   "metadata": {},
   "outputs": [],
   "source": [
    "def swap(arr):\n",
    " \n",
    "    # Initialize left and right indexes\n",
    "    s = 0\n",
    "    left = 0 \n",
    "    right = len(arr)-1\n",
    " \n",
    "    while left < right:\n",
    "        while (arr[left] % 2==0 and left < right):\n",
    "            left += 1\n",
    "        while (arr[right] % 2 == 1 and left < right):\n",
    "            right -= 1 \n",
    "        if (left < right):\n",
    "            arr[left],arr[right] = arr[right],arr[left]\n",
    "            s += 1\n",
    "            left += 1\n",
    "            right = right-1\n",
    "    return(arr)        "
   ]
  },
  {
   "cell_type": "code",
   "execution_count": 6,
   "metadata": {},
   "outputs": [
    {
     "name": "stdout",
     "output_type": "stream",
     "text": [
      "Array after segregation:  [12, 34, 90, 8, 9, 45, 3]\n"
     ]
    }
   ],
   "source": [
    "arr = [12, 34, 45, 9, 8, 90, 3]\n",
    "swap(arr)\n",
    "print (\"Array after segregation: \", arr)"
   ]
  },
  {
   "cell_type": "code",
   "execution_count": 7,
   "metadata": {},
   "outputs": [],
   "source": [
    "# use rearrange\n",
    "def swap1(arr):\n",
    "    j = -1\n",
    "    for i in range(0, len(arr)):\n",
    "        if (arr[i] % 2 == 0):\n",
    "            j = j + 1\n",
    "            temp = arr[i]\n",
    "            arr[i] = arr[j]\n",
    "            arr[j] = temp\n",
    "    return(arr)        "
   ]
  },
  {
   "cell_type": "code",
   "execution_count": 8,
   "metadata": {},
   "outputs": [
    {
     "name": "stdout",
     "output_type": "stream",
     "text": [
      "Array after segregation:  [12, 10, 2, 10, 10, 45, 9, 45]\n"
     ]
    }
   ],
   "source": [
    "arr = [12, 10, 9, 45, 2, 10, 10, 45]\n",
    "swap1(arr)\n",
    "print (\"Array after segregation: \", arr)"
   ]
  },
  {
   "cell_type": "code",
   "execution_count": null,
   "metadata": {},
   "outputs": [],
   "source": []
  }
 ],
 "metadata": {
  "kernelspec": {
   "display_name": "Python 3",
   "language": "python",
   "name": "python3"
  },
  "language_info": {
   "codemirror_mode": {
    "name": "ipython",
    "version": 3
   },
   "file_extension": ".py",
   "mimetype": "text/x-python",
   "name": "python",
   "nbconvert_exporter": "python",
   "pygments_lexer": "ipython3",
   "version": "3.7.4"
  }
 },
 "nbformat": 4,
 "nbformat_minor": 2
}
