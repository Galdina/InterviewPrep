{
 "cells": [
  {
   "cell_type": "markdown",
   "metadata": {},
   "source": [
    "# Part 1. What is Data Science?\n",
    "\n",
    "*The ability to take data to be able to understand it, to process it, to extract value from it, to visualize it, to communicate it - that is going to be a hugely important skill in the next decade.*\n",
    "\n",
    "## What is Data Science?\n",
    "\n",
    "Data Science can be defined as the field of deriving insights and value from data by solving problems in a scientific way. In order to derive insights, data science utilizes tools and concepts from several fields: statistics, data engineering, computer science, and machine learning.\n",
    "\n",
    "As a field, data science was only established recently. But the process of deriving insights and value from data has been around for while; quants have been deriving trading signals from data for decades, actuaries have been assessing risk from data for insurance and finance companies for decades, economists have been applying econometric methods to data for decades. So why the sudden increase in \"data science\" activity?"
   ]
  },
  {
   "cell_type": "markdown",
   "metadata": {},
   "source": [
    "\n",
    "There are few main factors:\n",
    "1. <u>Explosion of Data:</u> new technology has allowed us to collect data from billions of devices all over the world, every second of the day, and store it cheaply. We now have several zetabytes of data and now we can start to think about what insights can be uncovered.\n",
    "2. <u>Technological Advances:</u>  computing advances like MapREduce zallow us to process vast amounts of data, technological advances like cloud computing provide easy access to vast amounts of computing power on demand, and hardware advances like GPUs makes it feasible for certain machine learning algorithms to work faster and more efficiently.\n",
    "3. <u>Success Stories:</u>  there have been many success stories about leveraging data science in various fields, from quantitative investing to election/sports forecasting.\n"
   ]
  },
  {
   "cell_type": "markdown",
   "metadata": {},
   "source": [
    "# Part 2. Solution to Big Ideas in Data Science.\n",
    "##\n",
    " 1. Explain what regularization is and why it is useful?\n",
    " \n",
    "Regularization is the process of adding a penalty to the cost function of a model to shrink the coefficient estimates. It is usefull because it helps prevent overfitting. The most common forms are L1 (Lasso) and L2 (Ridge). One advantage of Lasso is that it can force coefficients to be zero and act as a feature selector."
   ]
  },
  {
   "cell_type": "code",
   "execution_count": null,
   "metadata": {},
   "outputs": [],
   "source": []
  }
 ],
 "metadata": {
  "kernelspec": {
   "display_name": "Python 3",
   "language": "python",
   "name": "python3"
  },
  "language_info": {
   "codemirror_mode": {
    "name": "ipython",
    "version": 3
   },
   "file_extension": ".py",
   "mimetype": "text/x-python",
   "name": "python",
   "nbconvert_exporter": "python",
   "pygments_lexer": "ipython3",
   "version": "3.7.4"
  }
 },
 "nbformat": 4,
 "nbformat_minor": 2
}
