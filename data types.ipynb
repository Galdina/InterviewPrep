{
 "cells": [
  {
   "cell_type": "code",
   "execution_count": 1,
   "metadata": {},
   "outputs": [],
   "source": [
    "# Lists\n",
    "lst_lst = [[], [1], ['1'], [1, 2], ['1', '2']]"
   ]
  },
  {
   "cell_type": "code",
   "execution_count": 3,
   "metadata": {},
   "outputs": [
    {
     "name": "stdout",
     "output_type": "stream",
     "text": [
      "72 80 80 88 88 112\n"
     ]
    }
   ],
   "source": [
    "import sys\n",
    "for lst in lst_lst:\n",
    "    print(sys.getsizeof(lst), end=' ')\n",
    "print(sys.getsizeof(lst_lst))"
   ]
  },
  {
   "cell_type": "code",
   "execution_count": 4,
   "metadata": {},
   "outputs": [
    {
     "name": "stdout",
     "output_type": "stream",
     "text": [
      "size: 1 bytes: 5 id: 140685624942416\n",
      "size: 2 bytes: 5 id: 140685624942416\n",
      "size: 3 bytes: 5 id: 140685624942416\n",
      "size: 4 bytes: 5 id: 140685624942416\n",
      "size: 5 bytes: 9 id: 140685624942416\n",
      "size: 6 bytes: 9 id: 140685624942416\n",
      "size: 7 bytes: 9 id: 140685624942416\n",
      "size: 8 bytes: 9 id: 140685624942416\n",
      "size: 9 bytes: 17 id: 140685624942416\n",
      "size: 10 bytes: 17 id: 140685624942416\n",
      "size: 11 bytes: 17 id: 140685624942416\n",
      "size: 12 bytes: 17 id: 140685624942416\n",
      "size: 13 bytes: 17 id: 140685624942416\n",
      "size: 14 bytes: 17 id: 140685624942416\n",
      "size: 15 bytes: 17 id: 140685624942416\n",
      "size: 16 bytes: 17 id: 140685624942416\n",
      "size: 17 bytes: 26 id: 140685624942416\n"
     ]
    }
   ],
   "source": [
    "a = []\n",
    "for size in range(17):\n",
    "  a.insert(0, size)\n",
    "  print('size:', len(a), 'bytes:', (sys.getsizeof(a)-64)//8, 'id:', id(a))\n"
   ]
  },
  {
   "cell_type": "code",
   "execution_count": 5,
   "metadata": {},
   "outputs": [
    {
     "name": "stdout",
     "output_type": "stream",
     "text": [
      "('Bob', 12345, 89) Computer_Science(name='Bob', id=12345, score=89)\n"
     ]
    }
   ],
   "source": [
    "# Tuple\n",
    "record1 = ('Bob', 12345, 89)\n",
    "from collections import namedtuple\n",
    "Record = namedtuple('Computer_Science', 'name id score')\n",
    "record2 = Record('Bob', id=12345, score=89)\n",
    "print(record1, record2)"
   ]
  },
  {
   "cell_type": "code",
   "execution_count": 7,
   "metadata": {},
   "outputs": [
    {
     "name": "stdout",
     "output_type": "stream",
     "text": [
      "<class 'tuple'> <class 'int'> <class 'tuple'>\n"
     ]
    }
   ],
   "source": [
    "# tuple examples\n",
    "a=()\n",
    "b=(1)\n",
    "c=(1,)\n",
    "print(type(a), type(b), type(c))"
   ]
  },
  {
   "cell_type": "code",
   "execution_count": 8,
   "metadata": {},
   "outputs": [],
   "source": [
    "lst_tup = [(), (1,), ('1',), (1, 2), ('1', '2')]"
   ]
  },
  {
   "cell_type": "code",
   "execution_count": 9,
   "metadata": {},
   "outputs": [
    {
     "name": "stdout",
     "output_type": "stream",
     "text": [
      "56 64 64 72 72 "
     ]
    }
   ],
   "source": [
    "# step by step\n",
    "\n",
    "import sys\n",
    "for tup in lst_tup:\n",
    "    print(sys.getsizeof(tup), end=' ')"
   ]
  },
  {
   "cell_type": "code",
   "execution_count": 10,
   "metadata": {},
   "outputs": [
    {
     "name": "stdout",
     "output_type": "stream",
     "text": [
      "49 49 49 50 51 52 53 "
     ]
    }
   ],
   "source": [
    "# Strings\n",
    "lst_string = ['', str(), \"\",'b', 'ab', 'abc', 'abcd']\n",
    "import sys\n",
    "for string in lst_string:\n",
    "    print(sys.getsizeof(string), end=' ')"
   ]
  },
  {
   "cell_type": "code",
   "execution_count": 11,
   "metadata": {},
   "outputs": [],
   "source": [
    "## experiment with tuples and lists\n",
    "\n",
    "def iterate(obj):\n",
    "    for _ in obj:\n",
    "        pass"
   ]
  },
  {
   "cell_type": "code",
   "execution_count": 12,
   "metadata": {},
   "outputs": [
    {
     "name": "stdout",
     "output_type": "stream",
     "text": [
      "<class 'tuple'>\n",
      "1.2 ms ± 182 µs per loop (mean ± std. dev. of 7 runs, 1000 loops each)\n",
      "1.28 ms ± 390 µs per loop (mean ± std. dev. of 7 runs, 1000 loops each)\n"
     ]
    }
   ],
   "source": [
    "a = [1]*100000\n",
    "b =(1,)*100000\n",
    "print(type(b))\n",
    "%timeit iterate(a)\n",
    "%timeit iterate(b)"
   ]
  },
  {
   "cell_type": "code",
   "execution_count": 13,
   "metadata": {},
   "outputs": [
    {
     "name": "stdout",
     "output_type": "stream",
     "text": [
      "['__abs__', '__add__', '__and__', '__bool__', '__ceil__', '__class__', '__delattr__', '__dir__', '__divmod__', '__doc__', '__eq__', '__float__', '__floor__', '__floordiv__', '__format__', '__ge__', '__getattribute__', '__getnewargs__', '__gt__', '__hash__', '__index__', '__init__', '__init_subclass__', '__int__', '__invert__', '__le__', '__lshift__', '__lt__', '__mod__', '__mul__', '__ne__', '__neg__', '__new__', '__or__', '__pos__', '__pow__', '__radd__', '__rand__', '__rdivmod__', '__reduce__', '__reduce_ex__', '__repr__', '__rfloordiv__', '__rlshift__', '__rmod__', '__rmul__', '__ror__', '__round__', '__rpow__', '__rrshift__', '__rshift__', '__rsub__', '__rtruediv__', '__rxor__', '__setattr__', '__sizeof__', '__str__', '__sub__', '__subclasshook__', '__truediv__', '__trunc__', '__xor__', 'bit_length', 'conjugate', 'denominator', 'from_bytes', 'imag', 'numerator', 'real', 'to_bytes']\n",
      "True\n",
      "False\n",
      "['__class__', '__delattr__', '__dir__', '__doc__', '__eq__', '__format__', '__ge__', '__getattribute__', '__gt__', '__hash__', '__init__', '__init_subclass__', '__le__', '__lt__', '__ne__', '__new__', '__reduce__', '__reduce_ex__', '__repr__', '__setattr__', '__sizeof__', '__str__', '__subclasshook__']\n"
     ]
    }
   ],
   "source": [
    "print(dir(1))#print all attributes\n",
    "print(isinstance(1, int)) # check instance type\n",
    "print(isinstance(1, float))\n",
    "o=object()\n",
    "print(dir(o))"
   ]
  },
  {
   "cell_type": "code",
   "execution_count": 14,
   "metadata": {},
   "outputs": [
    {
     "name": "stdout",
     "output_type": "stream",
     "text": [
      "([1, 2, 3, 4], '3', '4')\n"
     ]
    },
    {
     "ename": "TypeError",
     "evalue": "'tuple' object does not support item assignment",
     "output_type": "error",
     "traceback": [
      "\u001b[0;31m---------------------------------------------------------------------------\u001b[0m",
      "\u001b[0;31mTypeError\u001b[0m                                 Traceback (most recent call last)",
      "\u001b[0;32m<ipython-input-14-4b3290314903>\u001b[0m in \u001b[0;36m<module>\u001b[0;34m\u001b[0m\n\u001b[1;32m      2\u001b[0m \u001b[0meg_tuple\u001b[0m\u001b[0;34m[\u001b[0m\u001b[0;36m0\u001b[0m\u001b[0;34m]\u001b[0m\u001b[0;34m.\u001b[0m\u001b[0mappend\u001b[0m\u001b[0;34m(\u001b[0m\u001b[0;36m4\u001b[0m\u001b[0;34m)\u001b[0m\u001b[0;34m\u001b[0m\u001b[0;34m\u001b[0m\u001b[0m\n\u001b[1;32m      3\u001b[0m \u001b[0mprint\u001b[0m\u001b[0;34m(\u001b[0m\u001b[0meg_tuple\u001b[0m\u001b[0;34m)\u001b[0m\u001b[0;34m\u001b[0m\u001b[0;34m\u001b[0m\u001b[0m\n\u001b[0;32m----> 4\u001b[0;31m \u001b[0meg_tuple\u001b[0m\u001b[0;34m[\u001b[0m\u001b[0;36m0\u001b[0m\u001b[0;34m]\u001b[0m\u001b[0;34m=\u001b[0m\u001b[0;34m[\u001b[0m\u001b[0;36m1\u001b[0m\u001b[0;34m]\u001b[0m\u001b[0;34m\u001b[0m\u001b[0;34m\u001b[0m\u001b[0m\n\u001b[0m",
      "\u001b[0;31mTypeError\u001b[0m: 'tuple' object does not support item assignment"
     ]
    }
   ],
   "source": [
    "eg_tuple = ([1,2,3], '3', '4')\n",
    "eg_tuple[0].append(4)\n",
    "print(eg_tuple)\n",
    "eg_tuple[0]=[1]"
   ]
  },
  {
   "cell_type": "code",
   "execution_count": 15,
   "metadata": {},
   "outputs": [],
   "source": [
    "#Linked List\n",
    "\n",
    "class Node(object):\n",
    "    def __init__(self, val = None):\n",
    "        self.val = val\n",
    "        self.next = None"
   ]
  },
  {
   "cell_type": "code",
   "execution_count": null,
   "metadata": {},
   "outputs": [],
   "source": []
  }
 ],
 "metadata": {
  "kernelspec": {
   "display_name": "Python 3",
   "language": "python",
   "name": "python3"
  },
  "language_info": {
   "codemirror_mode": {
    "name": "ipython",
    "version": 3
   },
   "file_extension": ".py",
   "mimetype": "text/x-python",
   "name": "python",
   "nbconvert_exporter": "python",
   "pygments_lexer": "ipython3",
   "version": "3.7.4"
  }
 },
 "nbformat": 4,
 "nbformat_minor": 2
}
