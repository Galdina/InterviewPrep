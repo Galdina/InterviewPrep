{
 "cells": [
  {
   "cell_type": "markdown",
   "metadata": {},
   "source": [
    "# Bubble sorting (1st var)"
   ]
  },
  {
   "cell_type": "code",
   "execution_count": 4,
   "metadata": {},
   "outputs": [
    {
     "name": "stdout",
     "output_type": "stream",
     "text": [
      "Array is sorted in 3 swaps\n",
      "First Element: 1\n",
      "Last Element: 3\n"
     ]
    }
   ],
   "source": [
    "def Bubble(arr):\n",
    "    count_swap = 0\n",
    "    for num in range(len(arr)-1, 0, -1):\n",
    "        for i in range(num):\n",
    "            if arr[i] > arr[i+1]:\n",
    "                arr[i], arr[i+1] = arr[i+1], arr[i]\n",
    "                count_swap +=1\n",
    "    return count_swap\n",
    "\n",
    "\n",
    "a =[3,2,1]\n",
    "print (\"Array is sorted in {} swaps\".format(Bubble(a)))\n",
    "print (\"First Element: {}\".format(a[0]))\n",
    "print (\"Last Element: {}\".format(a[-1]))"
   ]
  },
  {
   "cell_type": "code",
   "execution_count": 5,
   "metadata": {},
   "outputs": [
    {
     "name": "stdout",
     "output_type": "stream",
     "text": [
      "Array is sorted in 0 swaps\n",
      "First Element: 1\n",
      "Last Element: 3\n"
     ]
    }
   ],
   "source": [
    "a =[1,2,3]\n",
    "print (\"Array is sorted in {} swaps\".format(Bubble(a)))\n",
    "print (\"First Element: {}\".format(a[0]))\n",
    "print (\"Last Element: {}\".format(a[-1]))"
   ]
  },
  {
   "cell_type": "code",
   "execution_count": 6,
   "metadata": {},
   "outputs": [
    {
     "name": "stdout",
     "output_type": "stream",
     "text": [
      "Array is sorted in 6 swaps\n",
      "First Element: 1\n",
      "Last Element: 6\n"
     ]
    }
   ],
   "source": [
    "a =[4,6,1,2,3]\n",
    "print (\"Array is sorted in {} swaps\".format(Bubble(a)))\n",
    "print (\"First Element: {}\".format(a[0]))\n",
    "print (\"Last Element: {}\".format(a[-1]))"
   ]
  },
  {
   "cell_type": "code",
   "execution_count": 8,
   "metadata": {},
   "outputs": [
    {
     "name": "stdout",
     "output_type": "stream",
     "text": [
      "3\n",
      "1 2 3\n",
      "Array is sorted in 0 swaps.\n",
      "First Element: 1\n",
      "Last Element: 3\n"
     ]
    }
   ],
   "source": [
    "n = int(input())\n",
    "a = list(map(int,input().split(' ')))\n",
    "\n",
    "def swap(x,y):\n",
    "    temp=x\n",
    "    x=y\n",
    "    y=temp\n",
    "    return(x,y)\n",
    "\n",
    "\n",
    "total=0\n",
    "for i in range(n-1):\n",
    "    count=0\n",
    "    for j in range(n-1):\n",
    "        if a[j]>a[j+1]:\n",
    "            a[j],a[j+1]=swap(a[j],a[j+1])\n",
    "            count=count+1\n",
    "    if count==0 :\n",
    "        break\n",
    "    else:\n",
    "        total=total+count\n",
    "\n",
    "print (\"Array is sorted in %r swaps.\"%total)\n",
    "print (\"First Element: {}\".format(a[0]))\n",
    "print (\"Last Element: {}\".format(a[-1]))"
   ]
  },
  {
   "cell_type": "code",
   "execution_count": null,
   "metadata": {},
   "outputs": [],
   "source": []
  }
 ],
 "metadata": {
  "kernelspec": {
   "display_name": "Python 3",
   "language": "python",
   "name": "python3"
  },
  "language_info": {
   "codemirror_mode": {
    "name": "ipython",
    "version": 3
   },
   "file_extension": ".py",
   "mimetype": "text/x-python",
   "name": "python",
   "nbconvert_exporter": "python",
   "pygments_lexer": "ipython3",
   "version": "3.7.4"
  }
 },
 "nbformat": 4,
 "nbformat_minor": 2
}
