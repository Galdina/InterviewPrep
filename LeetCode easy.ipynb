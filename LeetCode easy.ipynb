{
 "cells": [
  {
   "cell_type": "markdown",
   "metadata": {},
   "source": [
    "### Check if One String Swap Can Make Strings Equal"
   ]
  },
  {
   "cell_type": "markdown",
   "metadata": {},
   "source": [
    "You are given two strings s1 and s2 of equal length. A string swap is an operation where you choose two indices in a string (not necessarily different) and swap the characters at these indices.\n",
    "\n",
    "Return true if it is possible to make both strings equal by performing at most one string swap on exactly one of the strings. Otherwise, return false.\n",
    "\n",
    " \n",
    "\n",
    "Example 1:\n",
    "\n",
    "Input: s1 = \"bank\", s2 = \"kanb\"\n",
    "Output: true\n",
    "Explanation: For example, swap the first character with the last character of s2 to make \"bank\".\n",
    "Example 2:\n",
    "\n",
    "Input: s1 = \"attack\", s2 = \"defend\"\n",
    "Output: false\n",
    "Explanation: It is impossible to make them equal with one string swap.\n",
    "Example 3:\n",
    "\n",
    "Input: s1 = \"kelb\", s2 = \"kelb\"\n",
    "Output: true\n",
    "Explanation: The two strings are already equal, so no string swap operation is required.\n",
    "Example 4:\n",
    "\n",
    "Input: s1 = \"abcd\", s2 = \"dcba\"\n",
    "Output: false"
   ]
  },
  {
   "cell_type": "markdown",
   "metadata": {},
   "source": [
    "Constraints:\n",
    "\n",
    "1 <= s1.length, s2.length <= 100\n",
    "s1.length == s2.length\n",
    "s1 and s2 consist of only lowercase English letters.\n"
   ]
  },
  {
   "cell_type": "code",
   "execution_count": 4,
   "metadata": {},
   "outputs": [],
   "source": [
    "def areAlmostEqual(s1, s2):\n",
    "    if s1 == s2:\n",
    "        return True\n",
    "\n",
    "    if set(s1) != set(s2):\n",
    "        return False\n",
    "\n",
    "    size = len(s1)\n",
    "    for i in range(0, size - 1):\n",
    "        for j in range(i + 1, size):\n",
    "            if s2[:i] + s2[j] + s2[i+1:j] + s2[i] + s2[j+1:] == s1:\n",
    "                return True\n",
    "\n",
    "    return False"
   ]
  },
  {
   "cell_type": "code",
   "execution_count": 5,
   "metadata": {},
   "outputs": [
    {
     "name": "stdout",
     "output_type": "stream",
     "text": [
      "True\n"
     ]
    }
   ],
   "source": [
    "s1 = 'bank'\n",
    "s2 = 'kanb'\n",
    "print(areAlmostEqual(s1,s2))"
   ]
  },
  {
   "cell_type": "code",
   "execution_count": 6,
   "metadata": {},
   "outputs": [
    {
     "name": "stdout",
     "output_type": "stream",
     "text": [
      "False\n"
     ]
    }
   ],
   "source": [
    "s1 = \"attack\"\n",
    "s2 = \"defend\"\n",
    "print(areAlmostEqual(s1,s2))"
   ]
  },
  {
   "cell_type": "code",
   "execution_count": 7,
   "metadata": {},
   "outputs": [
    {
     "name": "stdout",
     "output_type": "stream",
     "text": [
      "True\n"
     ]
    }
   ],
   "source": [
    "s1 = \"kelb\"\n",
    "s2 = \"kelb\"\n",
    "print(areAlmostEqual(s1,s2))"
   ]
  },
  {
   "cell_type": "markdown",
   "metadata": {},
   "source": [
    "## 1518. Water Bottles"
   ]
  },
  {
   "cell_type": "markdown",
   "metadata": {},
   "source": [
    "Given numBottles full water bottles, you can exchange numExchange empty water bottles for one full water bottle.\n",
    "\n",
    "The operation of drinking a full water bottle turns it into an empty bottle.\n",
    "\n",
    "Return the maximum number of water bottles you can drink.\n",
    "\n",
    " \n",
    "\n",
    "Example 1:\n",
    "\n",
    "\n",
    "\n",
    "Input: numBottles = 9, numExchange = 3\n",
    "Output: 13\n",
    "Explanation: You can exchange 3 empty bottles to get 1 full water bottle.\n",
    "Number of water bottles you can drink: 9 + 3 + 1 = 13.\n",
    "Example 2:\n",
    "\n",
    "\n",
    "\n",
    "Input: numBottles = 15, numExchange = 4\n",
    "Output: 19\n",
    "Explanation: You can exchange 4 empty bottles to get 1 full water bottle. \n",
    "Number of water bottles you can drink: 15 + 3 + 1 = 19.\n",
    "Example 3:\n",
    "\n",
    "Input: numBottles = 5, numExchange = 5\n",
    "Output: 6\n",
    "Example 4:\n",
    "\n",
    "Input: numBottles = 2, numExchange = 3\n",
    "Output: 2\n",
    " \n",
    "\n",
    "Constraints:\n",
    "\n",
    "1 <= numBottles <= 100\n",
    "2 <= numExchange <= 100\n"
   ]
  },
  {
   "cell_type": "code",
   "execution_count": 2,
   "metadata": {},
   "outputs": [],
   "source": [
    "def numWaterBottles(numBottles, numExchange):\n",
    "        \n",
    "    def helper(numBottles, numEmptyBottles):\n",
    "        if (not numBottles) and (numEmptyBottles < numExchange):\n",
    "            return 0\n",
    "        if not numBottles:\n",
    "            div, mod = divmod(numEmptyBottles, numExchange)\n",
    "            return helper(div, mod)\n",
    "        return numBottles + helper(0, numBottles+numEmptyBottles)\n",
    "        \n",
    "    return helper(numBottles, 0)"
   ]
  },
  {
   "cell_type": "code",
   "execution_count": 3,
   "metadata": {},
   "outputs": [
    {
     "name": "stdout",
     "output_type": "stream",
     "text": [
      "6\n"
     ]
    }
   ],
   "source": [
    "numBottles = 5 \n",
    "numExchange = 5\n",
    "print(numWaterBottles(numBottles, numExchange))"
   ]
  },
  {
   "cell_type": "code",
   "execution_count": 4,
   "metadata": {},
   "outputs": [
    {
     "name": "stdout",
     "output_type": "stream",
     "text": [
      "2\n"
     ]
    }
   ],
   "source": [
    "numBottles = 2 \n",
    "numExchange = 3\n",
    "print(numWaterBottles(numBottles, numExchange))"
   ]
  },
  {
   "cell_type": "code",
   "execution_count": 5,
   "metadata": {},
   "outputs": [
    {
     "name": "stdout",
     "output_type": "stream",
     "text": [
      "19\n"
     ]
    }
   ],
   "source": [
    "numBottles = 15 \n",
    "numExchange = 4\n",
    "print(numWaterBottles(numBottles, numExchange))"
   ]
  },
  {
   "cell_type": "code",
   "execution_count": 6,
   "metadata": {},
   "outputs": [
    {
     "name": "stdout",
     "output_type": "stream",
     "text": [
      "13\n"
     ]
    }
   ],
   "source": [
    "numBottles = 9 \n",
    "numExchange = 3\n",
    "print(numWaterBottles(numBottles, numExchange))"
   ]
  },
  {
   "cell_type": "code",
   "execution_count": null,
   "metadata": {},
   "outputs": [],
   "source": []
  }
 ],
 "metadata": {
  "kernelspec": {
   "display_name": "Python 3",
   "language": "python",
   "name": "python3"
  },
  "language_info": {
   "codemirror_mode": {
    "name": "ipython",
    "version": 3
   },
   "file_extension": ".py",
   "mimetype": "text/x-python",
   "name": "python",
   "nbconvert_exporter": "python",
   "pygments_lexer": "ipython3",
   "version": "3.7.4"
  }
 },
 "nbformat": 4,
 "nbformat_minor": 2
}
