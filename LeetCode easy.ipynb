{
 "cells": [
  {
   "cell_type": "markdown",
   "metadata": {},
   "source": [
    "### Check if One String Swap Can Make Strings Equal"
   ]
  },
  {
   "cell_type": "markdown",
   "metadata": {},
   "source": [
    "You are given two strings s1 and s2 of equal length. A string swap is an operation where you choose two indices in a string (not necessarily different) and swap the characters at these indices.\n",
    "\n",
    "Return true if it is possible to make both strings equal by performing at most one string swap on exactly one of the strings. Otherwise, return false.\n",
    "\n",
    " \n",
    "\n",
    "Example 1:\n",
    "\n",
    "Input: s1 = \"bank\", s2 = \"kanb\"\n",
    "Output: true\n",
    "Explanation: For example, swap the first character with the last character of s2 to make \"bank\".\n",
    "Example 2:\n",
    "\n",
    "Input: s1 = \"attack\", s2 = \"defend\"\n",
    "Output: false\n",
    "Explanation: It is impossible to make them equal with one string swap.\n",
    "Example 3:\n",
    "\n",
    "Input: s1 = \"kelb\", s2 = \"kelb\"\n",
    "Output: true\n",
    "Explanation: The two strings are already equal, so no string swap operation is required.\n",
    "Example 4:\n",
    "\n",
    "Input: s1 = \"abcd\", s2 = \"dcba\"\n",
    "Output: false"
   ]
  },
  {
   "cell_type": "markdown",
   "metadata": {},
   "source": [
    "Constraints:\n",
    "\n",
    "1 <= s1.length, s2.length <= 100\n",
    "s1.length == s2.length\n",
    "s1 and s2 consist of only lowercase English letters.\n"
   ]
  },
  {
   "cell_type": "code",
   "execution_count": 4,
   "metadata": {},
   "outputs": [],
   "source": [
    "def areAlmostEqual(s1, s2):\n",
    "    if s1 == s2:\n",
    "        return True\n",
    "\n",
    "    if set(s1) != set(s2):\n",
    "        return False\n",
    "\n",
    "    size = len(s1)\n",
    "    for i in range(0, size - 1):\n",
    "        for j in range(i + 1, size):\n",
    "            if s2[:i] + s2[j] + s2[i+1:j] + s2[i] + s2[j+1:] == s1:\n",
    "                return True\n",
    "\n",
    "    return False"
   ]
  },
  {
   "cell_type": "code",
   "execution_count": 5,
   "metadata": {},
   "outputs": [
    {
     "name": "stdout",
     "output_type": "stream",
     "text": [
      "True\n"
     ]
    }
   ],
   "source": [
    "s1 = 'bank'\n",
    "s2 = 'kanb'\n",
    "print(areAlmostEqual(s1,s2))"
   ]
  },
  {
   "cell_type": "code",
   "execution_count": 6,
   "metadata": {},
   "outputs": [
    {
     "name": "stdout",
     "output_type": "stream",
     "text": [
      "False\n"
     ]
    }
   ],
   "source": [
    "s1 = \"attack\"\n",
    "s2 = \"defend\"\n",
    "print(areAlmostEqual(s1,s2))"
   ]
  },
  {
   "cell_type": "code",
   "execution_count": 7,
   "metadata": {},
   "outputs": [
    {
     "name": "stdout",
     "output_type": "stream",
     "text": [
      "True\n"
     ]
    }
   ],
   "source": [
    "s1 = \"kelb\"\n",
    "s2 = \"kelb\"\n",
    "print(areAlmostEqual(s1,s2))"
   ]
  },
  {
   "cell_type": "code",
   "execution_count": null,
   "metadata": {},
   "outputs": [],
   "source": []
  }
 ],
 "metadata": {
  "kernelspec": {
   "display_name": "Python 3",
   "language": "python",
   "name": "python3"
  },
  "language_info": {
   "codemirror_mode": {
    "name": "ipython",
    "version": 3
   },
   "file_extension": ".py",
   "mimetype": "text/x-python",
   "name": "python",
   "nbconvert_exporter": "python",
   "pygments_lexer": "ipython3",
   "version": "3.7.4"
  }
 },
 "nbformat": 4,
 "nbformat_minor": 2
}
