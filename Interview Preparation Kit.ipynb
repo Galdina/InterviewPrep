{
 "cells": [
  {
   "cell_type": "markdown",
   "metadata": {},
   "source": [
    "Given the pointer to the head node of a linked list and an integer to insert at a certain position, create a new node with the given integer as its  attribute, insert this node at the desired position and return the head node.\n",
    "\n",
    "A position of 0 indicates head, a position of 1 indicates one node away from the head and so on. The head pointer given may be null meaning that the initial list is empty.\n",
    "\n",
    "Example\n",
    " refers to the first node in the list \n",
    "\n",
    "\n",
    "Insert a node at position  with . The new list is \n",
    "\n",
    "Function Description Complete the function insertNodeAtPosition in the editor below. It must return a reference to the head node of your finished list.\n",
    "\n",
    "insertNodeAtPosition has the following parameters:\n",
    "\n",
    "head: a SinglyLinkedListNode pointer to the head of the list\n",
    "data: an integer value to insert as data in your new node\n",
    "position: an integer position to insert the new node, zero based indexing\n",
    "Returns\n",
    "\n",
    "SinglyLinkedListNode pointer: a reference to the head of the revised list\n",
    "Input Format\n",
    "\n",
    "The first line contains an integer , the number of elements in the linked list.\n",
    "Each of the next  lines contains an integer SinglyLinkedListNode[i].data.\n",
    "The next line contains an integer , the data of the node that is to be inserted.\n",
    "The last line contains an integer .\n",
    "\n",
    "Constraints\n"
   ]
  },
  {
   "cell_type": "code",
   "execution_count": 8,
   "metadata": {},
   "outputs": [],
   "source": [
    "#define a class for linked list\n",
    "class Node: \n",
    "    # init linked list\n",
    "    def __init__(self, data): \n",
    "        self.data = data\n",
    "        self.nextNode = None\n",
    "     \n",
    "    # create a new Node\n",
    "def getNode(data):\n",
    "    newNode = Node(data)\n",
    "    return newNode   "
   ]
  },
  {
   "cell_type": "code",
   "execution_count": 5,
   "metadata": {},
   "outputs": [],
   "source": [
    "def insertNode(headNode, position, data): \n",
    "    head = headNode\n",
    "    if (position < 1):\n",
    "        print(\"Invalid position!\")\n",
    "\n",
    "    if position == 1:\n",
    "        newNode = Node(data)\n",
    "        newNode.nextNode = headNode\n",
    "        head = newNode\n",
    "    \n",
    "    else:\n",
    "        while (position != 0):\n",
    "            position -= 1\n",
    "\n",
    "            if (position == 1):\n",
    "            # create a new Node\n",
    "                newNode = getNode(data)\n",
    "\n",
    "# Making the new Node to point to the old Node at the same position\n",
    "                newNode.nextNode = headNode.nextNode\n",
    "\n",
    "# Replacing headNode with new Node to the old Node to point to the new Node\n",
    "                headNode.nextNode = newNode\n",
    "                break\n",
    "\n",
    "            headNode = headNode.nextNode\n",
    "            if headNode == None:\n",
    "                break\n",
    "            if position != 1:\n",
    "                print(\"position out of range\")\n",
    "    return head"
   ]
  },
  {
   "cell_type": "code",
   "execution_count": 6,
   "metadata": {},
   "outputs": [],
   "source": [
    "def printList(head):\n",
    "    while (head != None):\n",
    "        print(' ' + str(head.data), end = '')\n",
    "        head = head.nextNode; \n",
    "    print()"
   ]
  },
  {
   "cell_type": "code",
   "execution_count": 9,
   "metadata": {},
   "outputs": [
    {
     "name": "stdout",
     "output_type": "stream",
     "text": [
      "Linked list before insertion:  3 5 8 10\n"
     ]
    }
   ],
   "source": [
    "head = getNode(3)\n",
    "head.nextNode = getNode(5)\n",
    "head.nextNode.nextNode = getNode(8)\n",
    "head.nextNode.nextNode.nextNode = getNode(10)\n",
    "print(\"Linked list before insertion: \", end='')\n",
    "printList(head) "
   ]
  },
  {
   "cell_type": "code",
   "execution_count": 14,
   "metadata": {},
   "outputs": [
    {
     "name": "stdout",
     "output_type": "stream",
     "text": [
      "position out of range\n",
      "Linked list after insertion of 12 at position 3:  3 5 12 12 12 12 8 10\n"
     ]
    }
   ],
   "source": [
    "data = 12\n",
    "position = 3\n",
    "head = insertNode(head, position, data)\n",
    "print(\"Linked list after insertion of 12 at position 3: \", end = '')\n",
    "printList(head)"
   ]
  },
  {
   "cell_type": "code",
   "execution_count": 15,
   "metadata": {},
   "outputs": [
    {
     "name": "stdout",
     "output_type": "stream",
     "text": [
      "Linked list after insertion of 12 at position 3:  1 3 5 12 12 12 12 8 10\n"
     ]
    }
   ],
   "source": [
    "data = 1\n",
    "position = 1\n",
    "head = insertNode(head, position, data)\n",
    "print(\"Linked list after insertion of 12 at position 3: \", end = '')\n",
    "printList(head)"
   ]
  },
  {
   "cell_type": "code",
   "execution_count": 16,
   "metadata": {},
   "outputs": [
    {
     "name": "stdout",
     "output_type": "stream",
     "text": [
      "position out of range\n",
      "position out of range\n",
      "position out of range\n",
      "position out of range\n",
      "position out of range\n",
      "position out of range\n",
      "position out of range\n",
      "position out of range\n",
      "Linked list after insertion of 12 at position 3:  1 3 5 12 12 12 12 8 10\n"
     ]
    }
   ],
   "source": [
    "data = 5\n",
    "position = 17\n",
    "head = insertNode(head, position, data)\n",
    "print(\"Linked list after insertion of 12 at position 3: \", end = '')\n",
    "printList(head)"
   ]
  }
 ],
 "metadata": {
  "kernelspec": {
   "display_name": "Python 3",
   "language": "python",
   "name": "python3"
  },
  "language_info": {
   "codemirror_mode": {
    "name": "ipython",
    "version": 3
   },
   "file_extension": ".py",
   "mimetype": "text/x-python",
   "name": "python",
   "nbconvert_exporter": "python",
   "pygments_lexer": "ipython3",
   "version": "3.7.4"
  }
 },
 "nbformat": 4,
 "nbformat_minor": 2
}
