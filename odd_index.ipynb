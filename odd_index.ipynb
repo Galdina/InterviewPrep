{
 "cells": [
  {
   "cell_type": "code",
   "execution_count": 17,
   "metadata": {},
   "outputs": [
    {
     "name": "stdout",
     "output_type": "stream",
     "text": [
      "<class 'str'>\n"
     ]
    }
   ],
   "source": [
    "n = 789\n",
    "str_n = str(n)\n",
    "length = len(str_n)\n",
    "print(type(str_n))\n",
    "arr = []\n",
    "for i in range(str_n):\n",
    "    arr[i] = \n",
    "#for i in range(len(str(n))):\n",
    "#    l = len(str(n))\n",
    "#    print((10**(i)))"
   ]
  },
  {
   "cell_type": "code",
   "execution_count": 1,
   "metadata": {},
   "outputs": [
    {
     "name": "stdout",
     "output_type": "stream",
     "text": [
      "2\n"
     ]
    }
   ],
   "source": [
    "# Function to count minimum subarrays whose odd-indexed elements need to be incremented to make array odd\n",
    "def minOperations(arr, n):\n",
    "\n",
    "    # Stores the minimum number of\n",
    "    # operations required\n",
    "    flips = 0\n",
    "    i = 0\n",
    "\n",
    "    # Iterate over even-indices\n",
    "    while i < n:\n",
    "\n",
    "        # Check if the current\n",
    "        # element is odd\n",
    "        if (arr[i] % 2 == 1):\n",
    "            i += 2\n",
    "        # If true, continue\n",
    "            continue;\n",
    "\n",
    "        # Otherwise, mark the starting of the subarray and iterate until i < n and arr[i] is even\n",
    "        while (i < n and arr[i] % 2 == 0):\n",
    "            i += 2\n",
    "\n",
    "        # Increment number of operations\n",
    "        flips += 1\n",
    "        i += 2\n",
    "\n",
    "    # Iterate over odd indexed positions of arr[]\n",
    "    i = 1\n",
    "    while i < n: \n",
    "\n",
    "        # Check if the current element is odd\n",
    "        if (arr[i] % 2 == 1):\n",
    "            i += 2\n",
    "            # If true, continue\n",
    "            continue\n",
    "\n",
    "        # Otherwise, mark the starting of the subarray and iterate until i < n and arr[i] is even\n",
    "        while (i < n and arr[i] % 2 == 0):\n",
    "            i += 2\n",
    "\n",
    "        # Increment the number of operations\n",
    "        flips += 1\n",
    "        i += 2\n",
    "    # Print the number of operations\n",
    "    print(flips)\n",
    "\n",
    "# Driver Code\n",
    "if __name__ == \"__main__\":\n",
    "\n",
    "    arr = [ 2, 3, 4, 3, 5, 3, 2 ];\n",
    "    N = len(arr)\n",
    "\n",
    "    # Function Call\n",
    "    minOperations(arr, N)\n"
   ]
  },
  {
   "cell_type": "code",
   "execution_count": null,
   "metadata": {},
   "outputs": [],
   "source": []
  }
 ],
 "metadata": {
  "kernelspec": {
   "display_name": "Python 3",
   "language": "python",
   "name": "python3"
  },
  "language_info": {
   "codemirror_mode": {
    "name": "ipython",
    "version": 3
   },
   "file_extension": ".py",
   "mimetype": "text/x-python",
   "name": "python",
   "nbconvert_exporter": "python",
   "pygments_lexer": "ipython3",
   "version": "3.7.4"
  }
 },
 "nbformat": 4,
 "nbformat_minor": 2
}
