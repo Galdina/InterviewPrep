{
 "cells": [
  {
   "cell_type": "markdown",
   "metadata": {},
   "source": [
    "# Linked List Data Structure\n",
    "\n",
    "A linked list is a linear data structure, in which the elements are not stored at contiguous memory locations. The elements in a linked list are linked using pointers as shown in the below image:\n",
    "[]\n",
    "### Why Linked List?\n",
    "Arrays can be used to store linear data of similar types, but arrays have the following limitations.\n",
    "1) The size of the arrays is fixed: So we must know the upper limit on the number of elements in advance. Also, generally, the allocated memory is equal to the upper limit irrespective of the usage.\n",
    "2) Inserting a new element in an array of elements is expensive because the room has to be created for the new elements and to create room existing elements have to be shifted.\n",
    "\n",
    "For example, in a system, if we maintain a sorted list of IDs in an array id[ ].\n",
    "\n",
    "id[ ] = [1000, 1010, 1050, 2000, 2040]."
   ]
  },
  {
   "cell_type": "markdown",
   "metadata": {},
   "source": [
    "And if we want to insert a new ID 1005, then to maintain the sorted order, we have to move all the elements after 1000 (excluding 1000).\n",
    "Deletion is also expensive with arrays until unless some special techniques are used. \n",
    "For example, to delete 1010 in id[ ], everything after 1010 has to be moved.\n",
    "\n",
    "### Advantages over arrays:\n",
    "1) Dynamic size\n",
    "2) Ease of insertion/deletion\n",
    "\n",
    "### Drawbacks:\n",
    "\n",
    "1) Random access is not allowed. We have to access elements sequentially starting from the first node. So we cannot do binary search with linked lists efficiently with its default implementation. Read about it here.\n",
    "\n",
    "2) Extra memory space for a pointer is required with each element of the list.\n",
    "\n",
    "3) Not cache friendly. Since array elements are contiguous locations, there is locality of reference which is not there in case of linked lists.\n",
    "\n",
    "### Representation:\n",
    "A linked list is represented by a pointer to the first node of the linked list. The first node is called the head. If the linked list is empty, then the value of the head is NULL.\\\n",
    "Each node in a list consists of at least two parts:\\\n",
    "1) data\\\n",
    "2) Pointer (Or Reference) to the next node\\\n",
    "In C, we can represent a node using structures. Below is an example of a linked list node with integer data.\n",
    "In Java or C#, LinkedList can be represented as a class and a Node as a separate class. The LinkedList class contains a reference of Node class type."
   ]
  },
  {
   "cell_type": "code",
   "execution_count": 1,
   "metadata": {},
   "outputs": [],
   "source": [
    "# Node class \n",
    "class Node: \n",
    "   \n",
    "    # Function to initialize the node object \n",
    "    def __init__(self, data): \n",
    "        self.data = data  # Assign data \n",
    "        self.next = None  # Initialize  \n",
    "                          # next as null \n",
    "\n",
    "# Linked List class \n",
    "class LinkedList: \n",
    "     \n",
    "    # Function to initialize the Linked  \n",
    "    # List object \n",
    "    def __init__(self):  \n",
    "        self.head = None"
   ]
  },
  {
   "cell_type": "code",
   "execution_count": 13,
   "metadata": {},
   "outputs": [],
   "source": [
    "# A simple Python program to introduce a linked list \n",
    "\n",
    "# Code execution starts here \n",
    "if __name__=='__main__': \n",
    "\n",
    "# Start with the empty list \n",
    "    llist = LinkedList() \n",
    "\n",
    "    llist.head = Node(1) \n",
    "    second = Node(2) \n",
    "    third = Node(3) \n",
    "    # Link first node with second \n",
    "    llist.head.next = second \n",
    "    # Link second node with the third node\n",
    "    second.next = third"
   ]
  },
  {
   "cell_type": "markdown",
   "metadata": {},
   "source": [
    "    \n",
    "\n",
    "''' \n",
    "Three nodes have been created. \n",
    "We have references to these three blocks as head, \n",
    "second and third \n",
    "\n",
    "    llist.head          second           third \n",
    "         |                |                | \n",
    "         |                |                | \n",
    "    +----+------+    +----+------+    +----+------+ \n",
    "    | 1  | None |    | 2  | None |    | 3  | None | \n",
    "    +----+------+    +----+------+    +----+------+ \n",
    "'''\n",
    "\n",
    "    \n",
    "''' \n",
    "Now next of first Node refers to second. So they \n",
    "both are linked. \n",
    "\n",
    "\n",
    "    llist.head          second           third \n",
    "         |                |                | \n",
    "         |                |                | \n",
    "    +----+------+    +----+------+    +----+------+ \n",
    "    | 1  | o-------->| 2  | None |    | 3  | None | \n",
    "    +----+------+    +----+------+    +----+------+ \n",
    "\n",
    "'''  \n",
    "\n",
    "''' \n",
    "Now next of second Node refers to third. So all three \n",
    "nodes are linked. \n",
    "\n",
    "    llist.head          second           third \n",
    "         |                |                | \n",
    "         |                |                | \n",
    "    +----+------+    +----+------+    +----+------+ \n",
    "    | 1  | o-------->| 2  | o-------->| 3  | None | \n",
    "    +----+------+    +----+------+    +----+------+ \n",
    "'''"
   ]
  },
  {
   "cell_type": "markdown",
   "metadata": {},
   "source": [
    "### Linked List Traversal\n",
    "In the previous program, we have created a simple linked list with three nodes. Let us traverse the created list and print the data of each node. For traversal, let us write a general-purpose function printList() that prints any given list."
   ]
  },
  {
   "cell_type": "code",
   "execution_count": 15,
   "metadata": {},
   "outputs": [
    {
     "name": "stdout",
     "output_type": "stream",
     "text": [
      "1\n",
      "2\n",
      "3\n"
     ]
    }
   ],
   "source": [
    "# Node class \n",
    "class Node: \n",
    "  \n",
    "    # Function to initialise the node object \n",
    "    def __init__(self, data): \n",
    "        self.data = data  # Assign data \n",
    "        self.next = None  # Initialize next as null \n",
    "  \n",
    "  \n",
    "# Linked List class contains a Node object \n",
    "class LinkedList: \n",
    "# Function to initialize head \n",
    "    def __init__(self): \n",
    "        self.head = None\n",
    "  \n",
    "    # This function prints contents of linked list \n",
    "    # starting from head \n",
    "    def printList(self): \n",
    "        temp = self.head \n",
    "        while (temp): \n",
    "            print (temp.data) \n",
    "            temp = temp.next\n",
    "  \n",
    "  \n",
    "# Code execution starts here \n",
    "if __name__=='__main__': \n",
    "  \n",
    "    # Start with the empty list \n",
    "    llist = LinkedList() \n",
    "  \n",
    "    llist.head = Node(1) \n",
    "    second = Node(2) \n",
    "    third = Node(3) \n",
    "  \n",
    "    llist.head.next = second # Link first node with second \n",
    "    second.next = third # Link second node with the third node \n",
    "  \n",
    "    llist.printList() "
   ]
  },
  {
   "cell_type": "markdown",
   "metadata": {},
   "source": [
    "## Questions\n",
    "1. What does the following function do for a given Linked List?"
   ]
  },
  {
   "cell_type": "code",
   "execution_count": 17,
   "metadata": {},
   "outputs": [],
   "source": [
    "def fun1(head):\n",
    "    if(head == None):\n",
    "        return\n",
    "    fun1(head.next) \n",
    "    print(head.data, end = \" \")"
   ]
  },
  {
   "cell_type": "code",
   "execution_count": null,
   "metadata": {},
   "outputs": [],
   "source": [
    "llist = LinkedList()\n",
    "\n",
    "llist.head = Node(1) \n",
    "second = Node(2) \n",
    "third = Node(3) \n",
    "fourth = Node(4)\n",
    "fifth = Node(5)\n",
    "\n",
    "llist.head.next = second\n",
    "second.next = third\n",
    "third.next = fourth\n",
    "fourth.next = fifth\n",
    "\n",
    "fun1(llist)"
   ]
  },
  {
   "cell_type": "markdown",
   "metadata": {},
   "source": [
    "fun1() prints the given Linked List in reverse manner. For Linked List 1->2->3->4->5, fun1() prints 5->4->3->2->1."
   ]
  },
  {
   "cell_type": "markdown",
   "metadata": {},
   "source": [
    "2. What does the following function do for a given Linked List ? "
   ]
  },
  {
   "cell_type": "code",
   "execution_count": 21,
   "metadata": {},
   "outputs": [],
   "source": [
    "def fun2(head):\n",
    "      \n",
    "    if(head == None):\n",
    "        return\n",
    "    print(head.data, end = \" \")\n",
    "      \n",
    "    if(head.next != None ):\n",
    "        fun2(head.next.next) \n",
    "    print(head.data, end = \" \")"
   ]
  },
  {
   "cell_type": "markdown",
   "metadata": {},
   "source": [
    "fun2() prints alternate nodes of the given Linked List, first from head to end, and then from end to head. If Linked List has even number of nodes, then fun2() skips the last node. For Linked List 1->2->3->4->5, fun2() prints 1 3 5 5 3 1. For Linked List 1->2->3->4->5->6, fun2() prints 1 3 5 5 3 1.\n",
    "Below is a complete running program to test above functions."
   ]
  },
  {
   "cell_type": "code",
   "execution_count": 23,
   "metadata": {},
   "outputs": [
    {
     "name": "stdout",
     "output_type": "stream",
     "text": [
      "Output of fun1() for list 1->2->3->4->5\n",
      "5 4 3 2 1 \n",
      "Output of fun2() for list 1->2->3->4->5\n",
      "1 3 5 5 3 1 "
     ]
    }
   ],
   "source": [
    "''' UTILITY FUNCTIONS TO TEST fun1() and fun2() '''\n",
    "''' Given a reference (pointer to pointer) to the head \n",
    "of a list and an int, push a new node on the front \n",
    "of the list. '''\n",
    "def push( head, new_data):\n",
    "\n",
    "        ''' put in the data '''\n",
    "        new_node = Node(new_data)\n",
    "\n",
    "        ''' link the old list off the new node '''\n",
    "        new_node.next = head\n",
    "\n",
    "        ''' move the head to poto the new node '''\n",
    "        head = new_node\n",
    "        return head\n",
    "\n",
    "''' Driver code '''\n",
    "''' Start with the empty list '''\n",
    "head = None\n",
    "\n",
    "''' Using push() to construct below list 1.2.3.4.5 '''\n",
    "head = Node(5) \n",
    "head = push(head, 4) \n",
    "head = push(head, 3) \n",
    "head = push(head, 2) \n",
    "head = push(head, 1) \n",
    "\n",
    "print(\"Output of fun1() for list 1->2->3->4->5\")\n",
    "fun1(head) \n",
    "\n",
    "print(\"\\nOutput of fun2() for list 1->2->3->4->5\") \n",
    "fun2(head) \n"
   ]
  },
  {
   "cell_type": "markdown",
   "metadata": {},
   "source": [
    "3. Which of the following points is/are true about Linked List data structure when it is compared with array?\n",
    "    * Arrays have better cache locality that can make them better in terms of performance.\n",
    "    * It is easy to insert and delete elements in Linked List\n",
    "    * Random access is not allowed in a typical implementation of Linked Lists\n",
    "    * The size of array has to be pre-decided, linked lists can change their size any time.\n",
    "    * All of the above <----Correct answer\n",
    "\n"
   ]
  },
  {
   "cell_type": "markdown",
   "metadata": {},
   "source": [
    "4. Consider the following function that takes reference to head of a Doubly Linked List as parameter. Assume that a node of doubly linked list has previous pointer as prev and next pointer as next. "
   ]
  },
  {
   "cell_type": "code",
   "execution_count": null,
   "metadata": {},
   "outputs": [],
   "source": [
    "void fun(struct node **head_ref)\n",
    "{\n",
    "    struct node *temp = NULL;\n",
    "    struct node *current = *head_ref;\n",
    " \n",
    "    while (current !=  NULL)\n",
    "    {\n",
    "        temp = current->prev;\n",
    "        current->prev = current->next;\n",
    "        current->next = temp;\n",
    "        current = current->prev;\n",
    "    }\n",
    " \n",
    "    if(temp != NULL )\n",
    "        *head_ref = temp->prev;\n",
    "}"
   ]
  },
  {
   "cell_type": "markdown",
   "metadata": {},
   "source": [
    "Assume that reference of head of following doubly linked list is passed to above function 1 <--> 2 <--> 3 <--> 4 <--> 5 <-->6. What should be the modified linked list after the function call?\n",
    "\n",
    "Answer: 6 <--> 5 <--> 4 <--> 3 <--> 2 <--> 1."
   ]
  },
  {
   "cell_type": "code",
   "execution_count": null,
   "metadata": {},
   "outputs": [],
   "source": []
  }
 ],
 "metadata": {
  "kernelspec": {
   "display_name": "Python 3",
   "language": "python",
   "name": "python3"
  },
  "language_info": {
   "codemirror_mode": {
    "name": "ipython",
    "version": 3
   },
   "file_extension": ".py",
   "mimetype": "text/x-python",
   "name": "python",
   "nbconvert_exporter": "python",
   "pygments_lexer": "ipython3",
   "version": "3.7.4"
  }
 },
 "nbformat": 4,
 "nbformat_minor": 2
}
