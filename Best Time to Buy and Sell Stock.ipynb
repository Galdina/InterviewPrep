{
 "cells": [
  {
   "cell_type": "markdown",
   "metadata": {},
   "source": [
    "# Best Time to Buy and Sell Stock\n",
    "Say you have an array for which the [i]th element is the price of a given stock on day i.\n",
    "\n",
    "If you were only permitted to complete at most one transaction (i.e., buy one and sell one share of the stock), design an algorithm to find the maximum profit.\n",
    "\n",
    "Note that you cannot sell a stock before you buy one.\n",
    "\n",
    "### Example 1:\n",
    "\n",
    "**Input:** [7,1,5,3,6,4]\n",
    "\n",
    "**Output:** 5\n",
    "\n",
    "**Explanation:** Buy on day 2 (price = 1) and sell on day 5 (price = 6), profit = 6-1 = 5.\n",
    "             Not 7-1 = 6, as selling price needs to be larger than buying price.\n",
    "### Example 2:\n",
    "\n",
    "**Input:** [7,6,4,3,1]\n",
    "\n",
    "**Output:** 0\n",
    "\n",
    "**Explanation:** In this case, no transaction is done, i.e. max profit = 0."
   ]
  },
  {
   "cell_type": "code",
   "execution_count": 2,
   "metadata": {},
   "outputs": [],
   "source": [
    "def maxProfit(arr):\n",
    "        n=len(arr)\n",
    "        buy, profit = None, 0\n",
    "        for i in range(n-1):\n",
    "            if buy == None:\n",
    "                if arr[i+1] > arr[i]:\n",
    "                    buy = i\n",
    "                    showbuy = i\n",
    "\n",
    "            if arr[i+1] > arr[i] and buy != None:\n",
    "                profit += arr[i+1]-arr[i]\n",
    "\n",
    "            if arr[i+1] < arr[i] and buy != None:\n",
    "                buy = None\n",
    "                sell = i\n",
    "                sell = None\n",
    "\n",
    "            if (i+1) == (n-1) and buy != None:\n",
    "                sell = n-1\n",
    "\n",
    "        return(profit)"
   ]
  },
  {
   "cell_type": "code",
   "execution_count": 3,
   "metadata": {},
   "outputs": [
    {
     "name": "stdout",
     "output_type": "stream",
     "text": [
      "7\n"
     ]
    }
   ],
   "source": [
    "print(maxProfit( [7,1,5,3,6,4]))"
   ]
  },
  {
   "cell_type": "code",
   "execution_count": 4,
   "metadata": {},
   "outputs": [
    {
     "name": "stdout",
     "output_type": "stream",
     "text": [
      "0\n"
     ]
    }
   ],
   "source": [
    "print(maxProfit( [7,6,4,3,1]))"
   ]
  },
  {
   "cell_type": "code",
   "execution_count": null,
   "metadata": {},
   "outputs": [],
   "source": []
  }
 ],
 "metadata": {
  "kernelspec": {
   "display_name": "Python 3",
   "language": "python",
   "name": "python3"
  },
  "language_info": {
   "codemirror_mode": {
    "name": "ipython",
    "version": 3
   },
   "file_extension": ".py",
   "mimetype": "text/x-python",
   "name": "python",
   "nbconvert_exporter": "python",
   "pygments_lexer": "ipython3",
   "version": "3.7.4"
  }
 },
 "nbformat": 4,
 "nbformat_minor": 2
}
