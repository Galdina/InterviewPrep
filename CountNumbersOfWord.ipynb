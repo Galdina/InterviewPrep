{
 "cells": [
  {
   "cell_type": "markdown",
   "metadata": {},
   "source": [
    "Maximum Number of Balloons"
   ]
  },
  {
   "cell_type": "markdown",
   "metadata": {},
   "source": [
    "1. Create a hashmap of (letter, count)\n",
    "2. CountLettersInWord (letter, count)\n",
    "3. start scanning letters in string\n",
    "\n",
    "    3a. if a letter is present in word then add count in hashmap\n",
    "\n",
    "    3b. if letter is not present in word then add 0\n",
    "\n",
    "4. Once we have count of each letter required for word in hashmap then do follow -\n",
    "\n",
    "    4a. Divide count of each letter by count of each letter in word\n",
    "\n",
    "5. min integer value should be the answer"
   ]
  },
  {
   "cell_type": "code",
   "execution_count": 4,
   "metadata": {},
   "outputs": [],
   "source": [
    "from collections import Counter\n",
    "def maxNumberOfBalloons(text):\n",
    "        hashtable, cnt = Counter(text), 0\n",
    "        while True:\n",
    "            for i in 'balloon':\n",
    "                if hashtable[i] == 0:\n",
    "                    return cnt\n",
    "                hashtable[i] = hashtable[i] - 1\n",
    "            cnt += 1"
   ]
  },
  {
   "cell_type": "code",
   "execution_count": 11,
   "metadata": {},
   "outputs": [
    {
     "name": "stdout",
     "output_type": "stream",
     "text": [
      "1\n"
     ]
    }
   ],
   "source": [
    "print(maxNumberOfBalloons('ballllllloon'))"
   ]
  },
  {
   "cell_type": "code",
   "execution_count": 7,
   "metadata": {},
   "outputs": [],
   "source": [
    "def maxNumberOfBalloons(text):       \n",
    "    \n",
    "    # Define the word we need to make\n",
    "        target_str = \"balloon\"\n",
    "        # Var for number of times the word ballon can be spelled\n",
    "        number_of_times = 0\n",
    "        # Put all our words into a dictionary where the key is the letter and the value is how many times it appears\n",
    "        letter_dict =  dict()\n",
    "        \n",
    "        for letter in text:\n",
    "            try:\n",
    "                letter_dict[letter] += 1\n",
    "            except KeyError:\n",
    "                letter_dict[letter] = 1\n",
    "        \n",
    "        # Infinite loop where we'll only break if a letter isn't found in our letter_dict\n",
    "        while True:\n",
    "            for target_letter in target_str:\n",
    "                # Get the letter\n",
    "                try:\n",
    "                    letter_dict[target_letter] -= 1\n",
    "                    # If the letter's value, which is it's occurrence amount is zero, delete it\n",
    "                    if letter_dict[target_letter] == 0:\n",
    "                        del letter_dict[target_letter]\n",
    "                # If we don't find the letter, we return the amount of times we've already spelled ballon\n",
    "                except KeyError:\n",
    "                    return number_of_times\n",
    "            # At the end of our for loop, we've spelled ballon, so if we don't return, we increment the number\n",
    "            # of times we spelled ballon by 1\n",
    "            number_of_times += 1"
   ]
  },
  {
   "cell_type": "code",
   "execution_count": 10,
   "metadata": {},
   "outputs": [
    {
     "name": "stdout",
     "output_type": "stream",
     "text": [
      "4\n"
     ]
    }
   ],
   "source": [
    "print(maxNumberOfBalloons('balballoonloonballoonballoon'))\n"
   ]
  },
  {
   "cell_type": "code",
   "execution_count": 18,
   "metadata": {},
   "outputs": [],
   "source": [
    "    def maxNumberOfBalloons(text):\n",
    "        strs = ['b', 'a', 'l', 'o', 'n']\n",
    "        counts = [0] * 5\n",
    "        print(counts)\n",
    "        for i in range(5):\n",
    "            counts[i] = text.count(strs[i])\n",
    "            print(text.count(strs[i]))\n",
    "        counts[2] = counts[2] // 2\n",
    "        counts[3] = counts[3] // 2\n",
    "\n",
    "        return min(counts)"
   ]
  },
  {
   "cell_type": "code",
   "execution_count": 19,
   "metadata": {},
   "outputs": [
    {
     "name": "stdout",
     "output_type": "stream",
     "text": [
      "[0, 0, 0, 0, 0]\n",
      "4\n",
      "4\n",
      "8\n",
      "8\n",
      "4\n",
      "4\n"
     ]
    }
   ],
   "source": [
    "print(maxNumberOfBalloons('balballoonloonballoonballoon'))"
   ]
  },
  {
   "cell_type": "code",
   "execution_count": 22,
   "metadata": {},
   "outputs": [],
   "source": [
    "def maxNumberOfBalloons(text):\n",
    "    counts=[0]*5\n",
    "    for i in text:\n",
    "        if i==\"b\":\n",
    "            counts[0]+=1\n",
    "        elif i==\"a\":\n",
    "            counts[1]+=1\n",
    "        elif i==\"l\":\n",
    "            counts[2]+=1\n",
    "        elif i==\"o\":\n",
    "            counts[3]+=1\n",
    "        elif i==\"n\":\n",
    "            counts[4]+=1\n",
    "    counts[2]//=2\n",
    "    counts[3]//=2\n",
    "    return min(counts)"
   ]
  },
  {
   "cell_type": "code",
   "execution_count": 23,
   "metadata": {},
   "outputs": [
    {
     "name": "stdout",
     "output_type": "stream",
     "text": [
      "4\n"
     ]
    }
   ],
   "source": [
    "print(maxNumberOfBalloons('balballoonloonballoonballoon'))"
   ]
  },
  {
   "cell_type": "markdown",
   "metadata": {},
   "source": [
    "/* Find maximum number of balloon\n",
    "\"balloon\"\n",
    "Example 1: \"nlaebolko\" -> 1\n",
    "\n",
    "Example 2: \"loonbalxballpoon\" -> 2\n",
    "\n",
    "Example 3: \"leetcode\" -> 0\n",
    "\n",
    "String can be empty or null -> return 0\n",
    "All lower cases\n",
    "\n",
    "Method1:\n",
    "word: {b:1, a:1, l:2, o:2, n:1}\n",
    "1. Create a hashmap <Char,Integer> {character:count} \"balloon\"\n",
    "2. In the given string for letters present in the hashmap store the count in a char array[26]\n",
    "3. Iterate through the array for characters present in the hashmap\n",
    "    3.1 Divide the array[i]%(value in hashmap)==0 (currCount)\n",
    "    3.2 Update a variable minCount = Math.min(minCount,currCount)\n",
    "4.return minCount\n",
    "\n",
    "Method2:\n",
    "1. Create a hashmap of (letter, count)\n",
    "2. CountLettersInWord (letter, count)\n",
    "3. start scanning letters in string\n",
    "3a. if a letter is present in word then add count in hashmap\n",
    "3b. if letter is not present in word then add 0\n",
    "4. Once we have count of each letter required for word in hashmap then do follow -\n",
    "4a. Divide count of each letter by count of each letter in word\n",
    "5. min integer value should be the answer\n",
    "\n",
    "\n",
    "\n",
    "\"balloon\"\n",
    "{b:1, a:1, l:2, o:2, n:1}\n",
    "b , o,n - 1\n",
    "[26] \n",
    "\"nlaebolko\" [1,1,2,,2,1,1,2,,,]\n",
    "min = Math.min(min,a[i])\n",
    "\n",
    "\n",
    "Method3:\n",
    "num1=text.count('b');\n",
    "num2=text.count('a');\n",
    "num3=text.count('l')/2;\n",
    "num4=text.count('o')/2;\n",
    "num5=text.count('n');\n",
    "math.min(num1,num2,num3,num4,num5.\n",
    "\n",
    "https://leetcode.com/problems/maximum-number-of-balloons/h\n",
    "Method 4: \n",
    "var maxNumberOfBalloons = function(text) {\n",
    "    if (text.length < 7) return 0\n",
    "    \n",
    "    const word = { b: 0, a: 0, l: 0, o: 0, n: 0, };\n",
    "    \n",
    "    for (const char of text) {\n",
    "        word[char] += 1\n",
    "        \n",
    "    }\n",
    "    console.log(word)\n",
    "  \n",
    "    return Math.floor(Math.min(word.b, word.a, word.l/2, word.o/2,word.n))\n",
    "\n",
    "};)\n",
    "*/\n",
    "\n",
    "\n",
    "\n",
    "\n",
    "\n",
    "\n",
    "\n",
    "\n"
   ]
  },
  {
   "cell_type": "code",
   "execution_count": null,
   "metadata": {},
   "outputs": [],
   "source": [
    "/* Find maximum number of balloon\n",
    "\"balloon\"\n",
    "Example 1: \"nlaebolko\" -> 1\n",
    "\n",
    "Example 2: \"loonbalxballpoon\" -> 2\n",
    "\n",
    "Example 3: \"leetcode\" -> 0\n",
    "\n",
    "String can be empty or null -> return 0\n",
    "All lower cases"
   ]
  },
  {
   "cell_type": "code",
   "execution_count": 27,
   "metadata": {},
   "outputs": [],
   "source": [
    "    def balloons(string):\n",
    "        maps = {}\n",
    "        for char in string:\n",
    "            if char not in string:\n",
    "                maps[char] = 1\n",
    "            else:\n",
    "                maps[char] += 1\n",
    "\n",
    "        for key in maps:\n",
    "            if key == 'b':\n",
    "                b = maps[key]\n",
    "            elif key == 'a':\n",
    "                a = maps[key]\n",
    "            elif key == 'n':\n",
    "                n = maps[key]\n",
    "            elif key == 'l':\n",
    "                l = maps[key]\n",
    "            elif key == 'o':\n",
    "                o = maps[key]\n",
    "        minfreq = min(b,a,n)\n",
    "\n",
    "        if l >= minfreq * 2 and o >= minfreq * 2:\n",
    "            return minfreq\n",
    "        else:\n",
    "            return 0\n"
   ]
  },
  {
   "cell_type": "code",
   "execution_count": 28,
   "metadata": {},
   "outputs": [
    {
     "ename": "KeyError",
     "evalue": "'n'",
     "output_type": "error",
     "traceback": [
      "\u001b[0;31m---------------------------------------------------------------------------\u001b[0m",
      "\u001b[0;31mKeyError\u001b[0m                                  Traceback (most recent call last)",
      "\u001b[0;32m<ipython-input-28-06cd18cc121f>\u001b[0m in \u001b[0;36m<module>\u001b[0;34m\u001b[0m\n\u001b[0;32m----> 1\u001b[0;31m \u001b[0mprint\u001b[0m\u001b[0;34m(\u001b[0m\u001b[0mballoons\u001b[0m\u001b[0;34m(\u001b[0m\u001b[0;34m\"nlaebolko\"\u001b[0m\u001b[0;34m)\u001b[0m\u001b[0;34m)\u001b[0m\u001b[0;34m\u001b[0m\u001b[0;34m\u001b[0m\u001b[0m\n\u001b[0m",
      "\u001b[0;32m<ipython-input-27-26f8cdd2ac6d>\u001b[0m in \u001b[0;36mballoons\u001b[0;34m(string)\u001b[0m\n\u001b[1;32m      5\u001b[0m             \u001b[0mmaps\u001b[0m\u001b[0;34m[\u001b[0m\u001b[0mchar\u001b[0m\u001b[0;34m]\u001b[0m \u001b[0;34m=\u001b[0m \u001b[0;36m1\u001b[0m\u001b[0;34m\u001b[0m\u001b[0;34m\u001b[0m\u001b[0m\n\u001b[1;32m      6\u001b[0m         \u001b[0;32melse\u001b[0m\u001b[0;34m:\u001b[0m\u001b[0;34m\u001b[0m\u001b[0;34m\u001b[0m\u001b[0m\n\u001b[0;32m----> 7\u001b[0;31m             \u001b[0mmaps\u001b[0m\u001b[0;34m[\u001b[0m\u001b[0mchar\u001b[0m\u001b[0;34m]\u001b[0m \u001b[0;34m+=\u001b[0m \u001b[0;36m1\u001b[0m\u001b[0;34m\u001b[0m\u001b[0;34m\u001b[0m\u001b[0m\n\u001b[0m\u001b[1;32m      8\u001b[0m \u001b[0;34m\u001b[0m\u001b[0m\n\u001b[1;32m      9\u001b[0m     \u001b[0;32mfor\u001b[0m \u001b[0mkey\u001b[0m \u001b[0;32min\u001b[0m \u001b[0mmaps\u001b[0m\u001b[0;34m:\u001b[0m\u001b[0;34m\u001b[0m\u001b[0;34m\u001b[0m\u001b[0m\n",
      "\u001b[0;31mKeyError\u001b[0m: 'n'"
     ]
    }
   ],
   "source": [
    "print(balloons(\"nlaebolko\"))"
   ]
  },
  {
   "cell_type": "code",
   "execution_count": null,
   "metadata": {},
   "outputs": [],
   "source": []
  }
 ],
 "metadata": {
  "kernelspec": {
   "display_name": "Python 3",
   "language": "python",
   "name": "python3"
  },
  "language_info": {
   "codemirror_mode": {
    "name": "ipython",
    "version": 3
   },
   "file_extension": ".py",
   "mimetype": "text/x-python",
   "name": "python",
   "nbconvert_exporter": "python",
   "pygments_lexer": "ipython3",
   "version": "3.7.4"
  }
 },
 "nbformat": 4,
 "nbformat_minor": 2
}
