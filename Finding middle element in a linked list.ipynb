{
 "cells": [
  {
   "cell_type": "markdown",
   "metadata": {},
   "source": [
    "Given a singly linked list of N nodes. The task is to find the middle of the linked list. For example, if given linked list is 1->2->3->4->5 then the output should be 3.\n",
    "If there are even nodes, then there would be two middle nodes, we need to print the second middle element. For example, if given linked list is 1->2->3->4->5->6 then the output should be 4.\n",
    "\n",
    "Example 1:\n",
    "\n",
    "Input:\n",
    "LinkedList: 1->2->3->4->5\n",
    "Output: 3 \n",
    "Explanation: \n",
    "Middle of linked list is 3.\n",
    "\n",
    "\n",
    "Example 2: \n",
    "\n",
    "Input:\n",
    "LinkedList: 2->4->6->7->5->1\n",
    "Output: 7 \n",
    "Explanation: \n",
    "Middle of linked list is 7.\n",
    "\n",
    "\n",
    "Your Task:\n",
    "The task is to complete the function getMiddle() which takes a head reference as the only argument and should return the data at the middle node of the linked list.\n",
    "\n",
    "Expected Time Complexity: O(N).\n",
    "Expected Auxiliary Space: O(1).\n",
    "\n",
    "Constraints:\n",
    "1 <= N <= 5000"
   ]
  },
  {
   "cell_type": "markdown",
   "metadata": {},
   "source": [
    "#### Method 1: \n",
    "Traverse the whole linked list and count the no. of nodes. Now traverse the list again till count/2 and return the node at count/2. \n",
    "\n",
    "#### Method 2: \n",
    "Traverse linked list using two pointers. Move one pointer by one and the other pointers by two. When the fast pointer reaches the end slow pointer will reach the middle of the linked list.\n",
    "\n"
   ]
  },
  {
   "cell_type": "code",
   "execution_count": 2,
   "metadata": {},
   "outputs": [],
   "source": [
    "class Node: \n",
    "    # Function to initialise the node object \n",
    "    def __init__(self, data): \n",
    "        self.data = data \n",
    "        self.next = None "
   ]
  },
  {
   "cell_type": "code",
   "execution_count": 5,
   "metadata": {},
   "outputs": [],
   "source": [
    "# Linked List class contains a Node object \n",
    "class LinkedList: \n",
    "    # Function to initialize head \n",
    "    def __init__(self): \n",
    "        self.head = None\n",
    "\n",
    "    # Function to insert a new node at the beginning \n",
    "    def push(self, new_data): \n",
    "        new_node = Node(new_data) \n",
    "        new_node.next = self.head \n",
    "        self.head = new_node\n",
    "\n",
    "    # Print the linked list\n",
    "    def printList(self):\n",
    "        node = self.head\n",
    "        while node:\n",
    "            print(str(node.data) + \" -> \", end = \"\")\n",
    "            node = node.next\n",
    "        print(\"NULL\")\n",
    "\n",
    "     # Function that returns middle.\n",
    "    def printMiddle1(self):\n",
    "        # Initialize two pointers, one will go one step a time (slow), another two at a time (fast)\n",
    "        slow = self.head\n",
    "        fast = self.head\n",
    "\n",
    "        # Iterate till fast's next is null (fast reaches end)\n",
    "        while fast and fast.next:\n",
    "            slow = slow.next\n",
    "            fast = fast.next.next\n",
    "        # return the slow's data, which would be the middle element.\n",
    "        print(\"The middle element is \", slow.data)\n",
    "        \n",
    "    def printMiddle2(self):\n",
    "        count = 0\n",
    "        mid = self.head\n",
    "        heads = self.head\n",
    "   \n",
    "        while(heads!= None):\n",
    "       \n",
    "        # Update mid, when 'count' is odd number \n",
    "            if count&1:\n",
    "                mid = mid.next\n",
    "            count += 1\n",
    "            heads = heads.next\n",
    "             \n",
    "        # If empty list is provided \n",
    "        if mid!= None:\n",
    "            print(\"The middle element is \", mid.data)    "
   ]
  },
  {
   "cell_type": "code",
   "execution_count": 8,
   "metadata": {},
   "outputs": [
    {
     "name": "stdout",
     "output_type": "stream",
     "text": [
      "5 -> NULL\n",
      "The middle element is  5\n",
      "---------\n",
      "4 -> 5 -> NULL\n",
      "The middle element is  5\n",
      "---------\n",
      "3 -> 4 -> 5 -> NULL\n",
      "The middle element is  4\n",
      "---------\n",
      "2 -> 3 -> 4 -> 5 -> NULL\n",
      "The middle element is  4\n",
      "---------\n",
      "1 -> 2 -> 3 -> 4 -> 5 -> NULL\n",
      "The middle element is  3\n",
      "---------\n"
     ]
    }
   ],
   "source": [
    "l = LinkedList() \n",
    "\n",
    "for i in range(5, 0, -1):\n",
    "    l.push(i)\n",
    "    l.printList()\n",
    "    l.printMiddle1()\n",
    "    print(\"---------\")\n",
    "    #l.printMiddle2()"
   ]
  },
  {
   "cell_type": "code",
   "execution_count": 9,
   "metadata": {},
   "outputs": [
    {
     "name": "stdout",
     "output_type": "stream",
     "text": [
      "The middle element is  3\n"
     ]
    }
   ],
   "source": [
    "l.printMiddle2()"
   ]
  },
  {
   "cell_type": "code",
   "execution_count": null,
   "metadata": {},
   "outputs": [],
   "source": []
  }
 ],
 "metadata": {
  "kernelspec": {
   "display_name": "Python 3",
   "language": "python",
   "name": "python3"
  },
  "language_info": {
   "codemirror_mode": {
    "name": "ipython",
    "version": 3
   },
   "file_extension": ".py",
   "mimetype": "text/x-python",
   "name": "python",
   "nbconvert_exporter": "python",
   "pygments_lexer": "ipython3",
   "version": "3.7.4"
  }
 },
 "nbformat": 4,
 "nbformat_minor": 2
}
