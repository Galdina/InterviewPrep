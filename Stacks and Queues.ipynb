{
 "cells": [
  {
   "cell_type": "markdown",
   "metadata": {},
   "source": [
    "# Balanced Brackets\n",
    "\n"
   ]
  },
  {
   "cell_type": "code",
   "execution_count": 1,
   "metadata": {},
   "outputs": [],
   "source": [
    "import math\n",
    "import os\n",
    "import random\n",
    "import re\n",
    "import sys"
   ]
  },
  {
   "cell_type": "code",
   "execution_count": 2,
   "metadata": {},
   "outputs": [],
   "source": [
    "def check_brackets(string):\n",
    "    stack = []\n",
    "    table = {\n",
    "        \")\": \"(\",\n",
    "        \"}\": \"{\",\n",
    "        \"]\": \"[\",\n",
    "    }\n",
    "    for char in string:\n",
    "        if not stack:\n",
    "            stack.append(char)\n",
    "        elif char not in table:\n",
    "            stack.append(char)\n",
    "        elif table[char] == stack[-1]:\n",
    "            stack.pop()\n",
    "        else:\n",
    "            stack.append(char)\n",
    "    if stack:\n",
    "        print(\"NO\")\n",
    "    else:\n",
    "        print(\"YES\")  "
   ]
  },
  {
   "cell_type": "code",
   "execution_count": 3,
   "metadata": {},
   "outputs": [
    {
     "name": "stdout",
     "output_type": "stream",
     "text": [
      "7\n",
      "{{{(}}}\n",
      "NO\n",
      "{}\n",
      "YES\n",
      "{{{{{{{}}}}}}\n",
      "NO\n",
      "[[[[[[[]]]]]]]\n",
      "YES\n",
      "{}[]()\n",
      "YES\n",
      "{()}\n",
      "YES\n",
      "}{\n",
      "NO\n"
     ]
    }
   ],
   "source": [
    "N = int(input().strip())\n",
    "for i in range(N):\n",
    "    check_brackets(input())"
   ]
  },
  {
   "cell_type": "markdown",
   "metadata": {},
   "source": [
    "# Queues: A Tale of Two Stacks"
   ]
  },
  {
   "cell_type": "code",
   "execution_count": 4,
   "metadata": {},
   "outputs": [],
   "source": [
    "class MyQueue(object):\n",
    "    def __init__(self):\n",
    "        self.inward = []\n",
    "        self.outward = []\n",
    "    \n",
    "    def peek(self):\n",
    "        if not self.outward:\n",
    "            self.outward = list(reversed(self.inward))\n",
    "            self.inward = []\n",
    "        return self.outward[-1]         \n",
    "        \n",
    "    def pop(self):\n",
    "        head = self.peek()\n",
    "        del self.outward[-1]\n",
    "        return head\n",
    "        \n",
    "    def put(self, value):\n",
    "        self.inward.append(value)"
   ]
  },
  {
   "cell_type": "code",
   "execution_count": 5,
   "metadata": {},
   "outputs": [
    {
     "name": "stdout",
     "output_type": "stream",
     "text": [
      "10\n",
      "1 42\n",
      "2\n",
      "1 14\n",
      "3\n",
      "14\n",
      "1 28\n",
      "3\n",
      "14\n",
      "1 60\n",
      "1 78\n",
      "2\n",
      "2\n"
     ]
    }
   ],
   "source": [
    "queue = MyQueue()\n",
    "t = int(input())\n",
    "for line in range(t):\n",
    "    values = map(int, input().split())\n",
    "    values = list(values)\n",
    "    if values[0] == 1:\n",
    "        queue.put(values[1])        \n",
    "    elif values[0] == 2:\n",
    "        queue.pop()\n",
    "    else:\n",
    "        print(queue.peek())"
   ]
  },
  {
   "cell_type": "markdown",
   "metadata": {},
   "source": [
    "# Poisonous Plants"
   ]
  },
  {
   "cell_type": "code",
   "execution_count": 6,
   "metadata": {},
   "outputs": [],
   "source": [
    "def poisonousPlants(plants):\n",
    "    stack = []\n",
    "    maxDays = -math.inf\n",
    "\n",
    "    for plant in plants:\n",
    "        days = 1\n",
    "\n",
    "        while stack and stack[-1][0] >= plant:\n",
    "            _, d = stack.pop()\n",
    "            days = max(days, d + 1)\n",
    "        \n",
    "        if not stack:\n",
    "            days = 0\n",
    "        \n",
    "        maxDays = max(maxDays, days)\n",
    "        stack.append((plant, days))\n",
    "    \n",
    "    return maxDays"
   ]
  },
  {
   "cell_type": "code",
   "execution_count": 7,
   "metadata": {},
   "outputs": [
    {
     "name": "stdout",
     "output_type": "stream",
     "text": [
      "7\n",
      "6 5 8 4 7 10 9\n",
      "2\n",
      "\n"
     ]
    }
   ],
   "source": [
    "n = int(input())\n",
    "\n",
    "p = list(map(int, input().rstrip().split()))\n",
    "\n",
    "result = poisonousPlants(p)\n",
    "\n",
    "print(str(result) + '\\n')"
   ]
  },
  {
   "cell_type": "code",
   "execution_count": null,
   "metadata": {},
   "outputs": [],
   "source": []
  }
 ],
 "metadata": {
  "kernelspec": {
   "display_name": "Python 3",
   "language": "python",
   "name": "python3"
  },
  "language_info": {
   "codemirror_mode": {
    "name": "ipython",
    "version": 3
   },
   "file_extension": ".py",
   "mimetype": "text/x-python",
   "name": "python",
   "nbconvert_exporter": "python",
   "pygments_lexer": "ipython3",
   "version": "3.7.4"
  }
 },
 "nbformat": 4,
 "nbformat_minor": 2
}
