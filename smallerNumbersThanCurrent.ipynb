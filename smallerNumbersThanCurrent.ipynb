{
 "cells": [
  {
   "cell_type": "markdown",
   "metadata": {},
   "source": [
    "# How Many Numbers Are Smaller Than the Current Number"
   ]
  },
  {
   "cell_type": "markdown",
   "metadata": {},
   "source": [
    "[link to task](https://leetcode.com/problems/how-many-numbers-are-smaller-than-the-current-number/)"
   ]
  },
  {
   "cell_type": "markdown",
   "metadata": {},
   "source": [
    "Given the array nums, for each nums[i] find out how many numbers in the array are smaller than it. That is, for each nums[i] you have to count the number of valid j's such that j != i and nums[j] < nums[i].\n",
    "\n",
    "Return the answer in an array.\n",
    "\n",
    "### Example 1:\n",
    "\n",
    "**Input:** nums = [8,1,2,2,3]\n",
    "\n",
    "**Output:** [4,0,1,1,3]\n",
    "\n",
    "Explanation: \n",
    "* For nums[0]=8 there exist four smaller numbers than it (1, 2, 2 and 3). \n",
    "* For nums[1]=1 does not exist any smaller number than it.\n",
    "* For nums[2]=2 there exist one smaller number than it (1). \n",
    "* For nums[3]=2 there exist one smaller number than it (1). \n",
    "* For nums[4]=3 there exist three smaller numbers than it (1, 2 and 2).\n",
    "\n",
    "### Example 2:\n",
    "\n",
    "**Input:** nums = [6,5,4,8]\n",
    "**Output:** [2,1,0,3]\n",
    "\n",
    "### Example 3:\n",
    "\n",
    "**Input:** nums = [7,7,7,7]\n",
    "**Output:** [0,0,0,0]\n",
    " \n",
    "\n",
    "### Constraints:\n",
    "\n",
    "2 <= nums.length <= 500\n",
    "\n",
    "0 <= nums[i] <= 100"
   ]
  },
  {
   "cell_type": "code",
   "execution_count": 4,
   "metadata": {},
   "outputs": [],
   "source": [
    "class Solution:\n",
    "    def smallerNumbersThanCurrent(self, nums):\n",
    "        nums_copy = nums[:]\n",
    "        res = []\n",
    "        for i in nums:\n",
    "            nums_copy.remove(i)\n",
    "            res.append(len([j for j in nums_copy if j<i]))\n",
    "            nums_copy = nums[:]\n",
    "        return res"
   ]
  },
  {
   "cell_type": "code",
   "execution_count": 7,
   "metadata": {},
   "outputs": [
    {
     "name": "stdout",
     "output_type": "stream",
     "text": [
      "[4, 0, 1, 1, 3]\n"
     ]
    }
   ],
   "source": [
    "array = [8,1,2,2,3]\n",
    "sol = Solution()\n",
    "print(sol.smallerNumbersThanCurrent(array))"
   ]
  },
  {
   "cell_type": "code",
   "execution_count": 8,
   "metadata": {},
   "outputs": [],
   "source": [
    "import bisect\n",
    "class Solution:\n",
    "    def smallerNumbersThanCurrent(self, nums):\n",
    "        sorted_nums = sorted(nums)\n",
    "        return [bisect.bisect_left(sorted_nums, i) for i in nums]"
   ]
  },
  {
   "cell_type": "code",
   "execution_count": 9,
   "metadata": {},
   "outputs": [
    {
     "name": "stdout",
     "output_type": "stream",
     "text": [
      "[4, 0, 1, 1, 3]\n"
     ]
    }
   ],
   "source": [
    "array = [8,1,2,2,3]\n",
    "sol = Solution()\n",
    "print(sol.smallerNumbersThanCurrent(array))"
   ]
  },
  {
   "cell_type": "code",
   "execution_count": 10,
   "metadata": {},
   "outputs": [
    {
     "name": "stdout",
     "output_type": "stream",
     "text": [
      "[2, 1, 0, 3]\n"
     ]
    }
   ],
   "source": [
    "array = [6,5,4,8] \n",
    "sol = Solution()\n",
    "print(sol.smallerNumbersThanCurrent(array))"
   ]
  },
  {
   "cell_type": "code",
   "execution_count": 11,
   "metadata": {},
   "outputs": [],
   "source": [
    "class Solution:\n",
    "    def smallerNumbersThanCurrent(self, nums):\n",
    "        d = {}\n",
    "        for i,v in enumerate(sorted(nums)):\n",
    "            if v not in d:\n",
    "                d[v]=i\n",
    "        return [d[i] for i in nums]"
   ]
  },
  {
   "cell_type": "code",
   "execution_count": 12,
   "metadata": {},
   "outputs": [
    {
     "name": "stdout",
     "output_type": "stream",
     "text": [
      "[0, 0, 0, 0]\n"
     ]
    }
   ],
   "source": [
    "array = [7,7,7,7] \n",
    "sol = Solution()\n",
    "print(sol.smallerNumbersThanCurrent(array))"
   ]
  },
  {
   "cell_type": "code",
   "execution_count": 16,
   "metadata": {},
   "outputs": [],
   "source": [
    "# my brod force\n",
    "def maxProfit(arr):\n",
    "        n=len(arr)\n",
    "        buy, profit = None, 0\n",
    "        for i in range(n-1):\n",
    "            if buy == None:\n",
    "                if arr[i+1] > arr[i]:\n",
    "                    buy = i\n",
    "                    showbuy = i\n",
    "\n",
    "            if arr[i+1] > arr[i] and buy != None:\n",
    "                profit += arr[i+1]-arr[i]\n",
    "\n",
    "            if arr[i+1] < arr[i] and buy != None:\n",
    "                buy = None\n",
    "                sell = i\n",
    "                sell = None\n",
    "\n",
    "            if (i+1) == (n-1) and buy != None:\n",
    "                sell = n-1\n",
    "\n",
    "        return(profit)"
   ]
  },
  {
   "cell_type": "code",
   "execution_count": 17,
   "metadata": {},
   "outputs": [
    {
     "name": "stdout",
     "output_type": "stream",
     "text": [
      "0\n"
     ]
    }
   ],
   "source": [
    "array = [7,7,7,7] \n",
    "print(maxProfit(array))"
   ]
  },
  {
   "cell_type": "code",
   "execution_count": null,
   "metadata": {},
   "outputs": [],
   "source": []
  }
 ],
 "metadata": {
  "kernelspec": {
   "display_name": "Python 3",
   "language": "python",
   "name": "python3"
  },
  "language_info": {
   "codemirror_mode": {
    "name": "ipython",
    "version": 3
   },
   "file_extension": ".py",
   "mimetype": "text/x-python",
   "name": "python",
   "nbconvert_exporter": "python",
   "pygments_lexer": "ipython3",
   "version": "3.7.4"
  }
 },
 "nbformat": 4,
 "nbformat_minor": 2
}
