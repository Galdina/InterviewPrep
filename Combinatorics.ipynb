{
 "cells": [
  {
   "cell_type": "markdown",
   "metadata": {},
   "source": [
    "# Combinatorics: Recursive Functions"
   ]
  },
  {
   "cell_type": "code",
   "execution_count": 1,
   "metadata": {},
   "outputs": [
    {
     "data": {
      "text/plain": [
       "45"
      ]
     },
     "execution_count": 1,
     "metadata": {},
     "output_type": "execute_result"
    }
   ],
   "source": [
    "def mysum(L):\n",
    "    if not L:\n",
    "        return 0\n",
    "    else:\n",
    "        return L[0] + mysum(L[1:])\n",
    "mysum([1,2,3,4,5,6,7,8,9])\n"
   ]
  },
  {
   "cell_type": "code",
   "execution_count": 2,
   "metadata": {},
   "outputs": [
    {
     "name": "stdout",
     "output_type": "stream",
     "text": [
      "[1, 2, 3, 4, 5, 6, 7, 8, 9]\n",
      "[2, 3, 4, 5, 6, 7, 8, 9]\n",
      "[3, 4, 5, 6, 7, 8, 9]\n",
      "[4, 5, 6, 7, 8, 9]\n",
      "[5, 6, 7, 8, 9]\n",
      "[6, 7, 8, 9]\n",
      "[7, 8, 9]\n",
      "[8, 9]\n",
      "[9]\n",
      "[]\n"
     ]
    },
    {
     "data": {
      "text/plain": [
       "45"
      ]
     },
     "execution_count": 2,
     "metadata": {},
     "output_type": "execute_result"
    }
   ],
   "source": [
    "def mysum(L):\n",
    "    print(L)\n",
    "    if not L:\n",
    "        return 0\n",
    "    else:\n",
    "        return L[0] + mysum(L[1:])\n",
    "\n",
    "mysum([1,2,3,4,5,6,7,8,9])"
   ]
  },
  {
   "cell_type": "code",
   "execution_count": 3,
   "metadata": {},
   "outputs": [
    {
     "data": {
      "text/plain": [
       "45"
      ]
     },
     "execution_count": 3,
     "metadata": {},
     "output_type": "execute_result"
    }
   ],
   "source": [
    "L = [1,2,3,4,5,6,7,8,9]\n",
    "sum_1 = 0 \n",
    "while L:\n",
    "    sum_1 += L[0]\n",
    "    L = L[1:]\n",
    "sum_1"
   ]
  },
  {
   "cell_type": "code",
   "execution_count": 4,
   "metadata": {},
   "outputs": [
    {
     "data": {
      "text/plain": [
       "45"
      ]
     },
     "execution_count": 4,
     "metadata": {},
     "output_type": "execute_result"
    }
   ],
   "source": [
    "L = [1,2,3,4,5,6,7,8,9]\n",
    "sum_1 = 0 \n",
    "for x in L:\n",
    "    sum_1 += x\n",
    "sum_1\n"
   ]
  },
  {
   "cell_type": "code",
   "execution_count": 5,
   "metadata": {},
   "outputs": [
    {
     "name": "stdout",
     "output_type": "stream",
     "text": [
      "[1, [2, 3, 4], 5, [6, [7, 8], 9]]\n",
      "[[2, 3, 4], 5, [6, [7, 8], 9]]\n",
      "[2, 3, 4]\n",
      "[3, 4]\n",
      "[4]\n",
      "[]\n",
      "[5, [6, [7, 8], 9]]\n",
      "[[6, [7, 8], 9]]\n",
      "[6, [7, 8], 9]\n",
      "[[7, 8], 9]\n",
      "[7, 8]\n",
      "[8]\n",
      "[]\n",
      "[9]\n",
      "[]\n",
      "[]\n"
     ]
    },
    {
     "data": {
      "text/plain": [
       "45"
      ]
     },
     "execution_count": 5,
     "metadata": {},
     "output_type": "execute_result"
    }
   ],
   "source": [
    "def mysum(L):\n",
    "    print(L)\n",
    "    if not L:\n",
    "        return 0\n",
    "    elif type(L[0]) == list:\n",
    "        return mysum(L[0]) + mysum(L[1:])\n",
    "    else:\n",
    "        return L[0] + mysum(L[1:])\n",
    "    \n",
    "L = [1,[2,3,4],5,[6,[7,8],9]]\n",
    "mysum(L)\n"
   ]
  },
  {
   "cell_type": "code",
   "execution_count": 6,
   "metadata": {},
   "outputs": [
    {
     "name": "stdout",
     "output_type": "stream",
     "text": [
      "[1, [2, 3, 4], 5, [6, [7, 8], 9]]\n",
      "[2, 3, 4, 6, [7, 8], 9]\n",
      "[7, 8]\n"
     ]
    },
    {
     "data": {
      "text/plain": [
       "45"
      ]
     },
     "execution_count": 6,
     "metadata": {},
     "output_type": "execute_result"
    }
   ],
   "source": [
    "#Process everything layer by layer. \n",
    "#Thus you process everything in the list, and put off items for later processing if they are nested data structures.\n",
    "def mysum(L, tot=0):\n",
    "    print(L)\n",
    "    deeper_data = [] #Initialize a container for nested data you come across\n",
    "    #Process the current depth layer\n",
    "    for i in L:\n",
    "        if type(i) != list:\n",
    "            tot += i #If its not a list, its a number! Add it up!\n",
    "        else:\n",
    "            [deeper_data.append(j) for j in i] #Add nested items to our list of things to process later on\n",
    "            #Notice you're digging in a layer here by iterating \n",
    "            #through i which you know is a nested data structure from our conditional\n",
    "    if deeper_data != []:\n",
    "        return mysum(deeper_data, tot=tot)\n",
    "        #If you have deeper_data we got to iterate!\n",
    "    else:\n",
    "        return tot\n",
    "        #If you don't have nested data, we're done!\n",
    "    \n",
    "L = [1,[2,3,4],5,[6,[7,8],9]]\n",
    "mysum(L)"
   ]
  },
  {
   "cell_type": "markdown",
   "metadata": {},
   "source": [
    "## Fibonacci\n",
    "The Fibonacci sequence starts off: 1,1,2,3,5,8,13,21,34,...\n",
    "\n",
    "Each number is the sum of the two preceding. Write a recursive function that calculates the nth number of the Fibonacci sequence. For example, our sequence above would correspond to:"
   ]
  },
  {
   "cell_type": "code",
   "execution_count": 7,
   "metadata": {},
   "outputs": [],
   "source": [
    "def fib(n):\n",
    "    if n < 1:\n",
    "        return \"N must be an integer greater then 1\"\n",
    "    elif n in [1,2]:\n",
    "            return 1\n",
    "    else:\n",
    "        return fib(n-1) + fib(n-2)"
   ]
  },
  {
   "cell_type": "code",
   "execution_count": 9,
   "metadata": {},
   "outputs": [
    {
     "name": "stdout",
     "output_type": "stream",
     "text": [
      "1\n",
      "1\n",
      "2\n",
      "3\n",
      "5\n",
      "8\n",
      "13\n",
      "21\n",
      "34\n"
     ]
    }
   ],
   "source": [
    "for i in range(1, 10):\n",
    "    print(fib(i))"
   ]
  },
  {
   "cell_type": "code",
   "execution_count": 10,
   "metadata": {},
   "outputs": [
    {
     "name": "stdout",
     "output_type": "stream",
     "text": [
      "Current L: [1, [2, 3, [4, 5, 6]], 7, [8], [9, 10]]\n",
      "Current L: [2, 3, [4, 5, 6]]\n",
      "Current L: [4, 5, 6]\n",
      "Current L: [8]\n",
      "Current L: [9, 10]\n"
     ]
    },
    {
     "data": {
      "text/plain": [
       "[1, 2, 3, 4, 5, 6, 7, 8, 9, 10]"
      ]
     },
     "execution_count": 10,
     "metadata": {},
     "output_type": "execute_result"
    }
   ],
   "source": [
    "def flat_list(L, result=None, print_results=True):\n",
    "    if result is None:\n",
    "        result = []\n",
    "    if print_results:\n",
    "        print('Current L:', L) #Optional, to display process\n",
    "    for i in L:\n",
    "        if type(i) == list:\n",
    "            flat_list(i, result)\n",
    "        else:\n",
    "            result.append(i)\n",
    "    return result\n",
    "L = [1,[2,3,[4,5,6]], 7, [8], [9,10]]\n",
    "flat_list(L)"
   ]
  },
  {
   "cell_type": "code",
   "execution_count": null,
   "metadata": {},
   "outputs": [],
   "source": []
  }
 ],
 "metadata": {
  "kernelspec": {
   "display_name": "Python 3",
   "language": "python",
   "name": "python3"
  },
  "language_info": {
   "codemirror_mode": {
    "name": "ipython",
    "version": 3
   },
   "file_extension": ".py",
   "mimetype": "text/x-python",
   "name": "python",
   "nbconvert_exporter": "python",
   "pygments_lexer": "ipython3",
   "version": "3.7.4"
  }
 },
 "nbformat": 4,
 "nbformat_minor": 2
}
