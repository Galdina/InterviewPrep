{
 "cells": [
  {
   "cell_type": "markdown",
   "metadata": {},
   "source": [
    "You are given the logs for users' actions on LeetCode, and an integer k. The logs are represented by a 2D integer array logs where each logs[i] = [IDi, timei] indicates that the user with IDi performed an action at the minute timei.\n",
    "\n",
    "Multiple users can perform actions simultaneously, and a single user can perform multiple actions in the same minute.\n",
    "\n",
    "The user active minutes (UAM) for a given user is defined as the number of unique minutes in which the user performed an action on LeetCode. A minute can only be counted once, even if multiple actions occur during it.\n",
    "\n",
    "You are to calculate a 1-indexed array answer of size k such that, for each j (1 <= j <= k), answer[j] is the number of users whose UAM equals j.\n",
    "\n",
    "Return the array answer as described above.\n",
    "\n",
    " \n",
    "\n",
    "Example 1:\n",
    "\n",
    "Input: logs = [[0,5],[1,2],[0,2],[0,5],[1,3]], k = 5\n",
    "Output: [0,2,0,0,0]\n",
    "Explanation:\n",
    "The user with ID=0 performed actions at minutes 5, 2, and 5 again. Hence, they have a UAM of 2 (minute 5 is only counted once).\n",
    "The user with ID=1 performed actions at minutes 2 and 3. Hence, they have a UAM of 2.\n",
    "Since both users have a UAM of 2, answer[2] is 2, and the remaining answer[j] values are 0.\n",
    "Example 2:\n",
    "\n",
    "Input: logs = [[1,1],[2,2],[2,3]], k = 4\n",
    "Output: [1,1,0,0]\n",
    "Explanation:\n",
    "The user with ID=1 performed a single action at minute 1. Hence, they have a UAM of 1.\n",
    "The user with ID=2 performed actions at minutes 2 and 3. Hence, they have a UAM of 2.\n",
    "There is one user with a UAM of 1 and one with a UAM of 2.\n",
    "Hence, answer[1] = 1, answer[2] = 1, and the remaining values are 0.\n",
    " \n",
    "\n",
    "Constraints:\n",
    "\n",
    "1 <= logs.length <= 104\n",
    "0 <= IDi <= 109\n",
    "1 <= timei <= 105\n",
    "k is in the range [The maximum UAM for a user, 105]."
   ]
  },
  {
   "cell_type": "code",
   "execution_count": 2,
   "metadata": {},
   "outputs": [],
   "source": [
    "def ActiveMinutes(logs, k):\n",
    "        \n",
    "    result = [0] * k\n",
    "    result_counts = {}\n",
    "        \n",
    "    for log in logs:\n",
    "        current_result_counts = result_counts.get(log[0], set())\n",
    "        current_result_counts.add(log[1])\n",
    "        result_counts[log[0]] = current_result_counts\n",
    "            \n",
    "    for i in result_counts:\n",
    "        result[len(result_counts[i])-1] += 1\n",
    "                \n",
    "    return result"
   ]
  },
  {
   "cell_type": "code",
   "execution_count": 5,
   "metadata": {},
   "outputs": [
    {
     "name": "stdout",
     "output_type": "stream",
     "text": [
      "[0, 2, 0, 0, 0]\n"
     ]
    }
   ],
   "source": [
    "logs = [[0,5],[1,2],[0,2],[0,5],[1,3]]\n",
    "k = 5\n",
    "print(ActiveMinutes(logs, k))"
   ]
  },
  {
   "cell_type": "code",
   "execution_count": 4,
   "metadata": {},
   "outputs": [
    {
     "name": "stdout",
     "output_type": "stream",
     "text": [
      "[1, 1, 0, 0]\n"
     ]
    }
   ],
   "source": [
    "logs = [[1,1],[2,2],[2,3]]\n",
    "k = 4\n",
    "print(ActiveMinutes(logs, k))"
   ]
  },
  {
   "cell_type": "code",
   "execution_count": null,
   "metadata": {},
   "outputs": [],
   "source": []
  }
 ],
 "metadata": {
  "kernelspec": {
   "display_name": "Python 3",
   "language": "python",
   "name": "python3"
  },
  "language_info": {
   "codemirror_mode": {
    "name": "ipython",
    "version": 3
   },
   "file_extension": ".py",
   "mimetype": "text/x-python",
   "name": "python",
   "nbconvert_exporter": "python",
   "pygments_lexer": "ipython3",
   "version": "3.7.4"
  }
 },
 "nbformat": 4,
 "nbformat_minor": 2
}
