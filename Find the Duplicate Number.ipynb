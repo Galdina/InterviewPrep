{
 "cells": [
  {
   "cell_type": "markdown",
   "metadata": {},
   "source": [
    "Given an array of integers nums containing n + 1 integers where each integer is in the range [1, n] inclusive.\n",
    "\n",
    "There is only one repeated number in nums, return this repeated number.\n",
    "\n",
    "**Constraints:**\n",
    "\n",
    "2 <= n <= 105\n",
    "\n",
    "nums.length == n + 1\n",
    "\n",
    "1 <= nums[i] <= n\n",
    "\n",
    "All the integers in nums appear only once except for precisely one integer which appears two or more times."
   ]
  },
  {
   "cell_type": "code",
   "execution_count": 7,
   "metadata": {},
   "outputs": [],
   "source": [
    "def FindDuplicate(nums):\n",
    "    n = len(nums)\n",
    "    for i in range(n):\n",
    "        nums[nums[i]%n] += n\n",
    "            \n",
    "    for i in range(n):\n",
    "        if nums[i]//n >= 2:\n",
    "            return i"
   ]
  },
  {
   "cell_type": "code",
   "execution_count": 8,
   "metadata": {},
   "outputs": [
    {
     "name": "stdout",
     "output_type": "stream",
     "text": [
      "2\n"
     ]
    }
   ],
   "source": [
    "arr = [1,3,4,2,2]\n",
    "print(FindDuplicate(arr))"
   ]
  },
  {
   "cell_type": "code",
   "execution_count": 9,
   "metadata": {},
   "outputs": [
    {
     "name": "stdout",
     "output_type": "stream",
     "text": [
      "3\n"
     ]
    }
   ],
   "source": [
    "arr = [3,1,3,4,2]\n",
    "print(FindDuplicate(arr))"
   ]
  },
  {
   "cell_type": "code",
   "execution_count": 10,
   "metadata": {},
   "outputs": [
    {
     "name": "stdout",
     "output_type": "stream",
     "text": [
      "1\n"
     ]
    }
   ],
   "source": [
    "arr = [1,1]\n",
    "print(FindDuplicate(arr))"
   ]
  },
  {
   "cell_type": "code",
   "execution_count": 14,
   "metadata": {},
   "outputs": [],
   "source": [
    "#pointer\n",
    "def FindDuplicate1(nums):\n",
    "    slow = fast = head = len(nums)\n",
    "    slow = nums[slow-1]\n",
    "    fast = nums[nums[fast-1]-1]\n",
    "    while slow != fast:\n",
    "        slow = nums[slow-1]\n",
    "        fast = nums[nums[fast-1]-1]\n",
    "    while head != slow:\n",
    "        head = nums[head-1]\n",
    "        slow = nums[slow-1]\n",
    "    return head "
   ]
  },
  {
   "cell_type": "code",
   "execution_count": 15,
   "metadata": {},
   "outputs": [
    {
     "name": "stdout",
     "output_type": "stream",
     "text": [
      "2\n"
     ]
    }
   ],
   "source": [
    "arr = [1,3,4,2,2]\n",
    "print(FindDuplicate1(arr))"
   ]
  },
  {
   "cell_type": "code",
   "execution_count": 17,
   "metadata": {},
   "outputs": [
    {
     "name": "stdout",
     "output_type": "stream",
     "text": [
      "3\n"
     ]
    }
   ],
   "source": [
    "arr = [3,1,3,4,2]\n",
    "print(FindDuplicate1(arr))"
   ]
  },
  {
   "cell_type": "code",
   "execution_count": null,
   "metadata": {},
   "outputs": [],
   "source": []
  }
 ],
 "metadata": {
  "kernelspec": {
   "display_name": "Python 3",
   "language": "python",
   "name": "python3"
  },
  "language_info": {
   "codemirror_mode": {
    "name": "ipython",
    "version": 3
   },
   "file_extension": ".py",
   "mimetype": "text/x-python",
   "name": "python",
   "nbconvert_exporter": "python",
   "pygments_lexer": "ipython3",
   "version": "3.7.4"
  }
 },
 "nbformat": 4,
 "nbformat_minor": 2
}
