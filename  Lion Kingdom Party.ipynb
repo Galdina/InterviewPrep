{
 "cells": [
  {
   "cell_type": "code",
   "execution_count": 1,
   "metadata": {},
   "outputs": [],
   "source": [
    "import json\n",
    "from random import randint"
   ]
  },
  {
   "cell_type": "code",
   "execution_count": 2,
   "metadata": {},
   "outputs": [],
   "source": [
    "names = [\"Tom\", \"Jacob\", \"Stew\", \"Evan\", \"Felix\", \"John\", \"Bob\", \"Bill\", \"Hans\", \"Bea\",\n",
    "        \"Hailey\", \"Maia\", \"Vale\", \"Nick\", \"Rob\", \"Jimmy\", \"Josh\", \"Alexa\", \"Cristian\"]\n",
    "prty_val = [randint(-15, 50) for _i in names]\n",
    "rulers = [\"Stew\", \"Stew\", \"Vale\", \"John\", \"John\", \"Nick\", \"Hans\", \"Hans\", \"Rob\", \"Maia\", \"Maia\", \n",
    "            \"Jimmy\", \"Rob\", \"Jimmy\", \"Jimmy\", \"\", \"Cristian\", \"Cristian\", \"John\"]\n",
    "json_prime = zip(names, rulers, prty_val)"
   ]
  },
  {
   "cell_type": "code",
   "execution_count": 3,
   "metadata": {},
   "outputs": [],
   "source": [
    "with open(\"ani.json\", \"wt\") as ani:\n",
    "    json.dump([{\"name\": n, \"ruler\": r, \"party_animal_value\": p} for n, r, p in json_prime], ani, indent=4)"
   ]
  },
  {
   "cell_type": "code",
   "execution_count": 4,
   "metadata": {},
   "outputs": [],
   "source": [
    "import pandas as pd\n",
    "DEMO = True"
   ]
  },
  {
   "cell_type": "code",
   "execution_count": 5,
   "metadata": {},
   "outputs": [
    {
     "name": "stdout",
     "output_type": "stream",
     "text": [
      "        name     ruler  party_animal_value\n",
      "0        Tom      Stew                  44\n",
      "1      Jacob      Stew                  44\n",
      "2       Stew      Vale                  13\n",
      "3       Evan      John                  44\n",
      "4      Felix      John                   5\n",
      "5       John      Nick                  46\n",
      "6        Bob      Hans                  25\n",
      "7       Bill      Hans                  48\n",
      "8       Hans       Rob                  27\n",
      "9        Bea      Maia                  48\n",
      "10    Hailey      Maia                   1\n",
      "12      Vale       Rob                  46\n",
      "15     Jimmy                            41\n",
      "17     Alexa  Cristian                  39\n",
      "18  Cristian      John                  39\n"
     ]
    }
   ],
   "source": [
    "animals = pd.read_json(\"ani.json\")\n",
    "main_ruler = animals.query(\"ruler==''\").iloc[0, 0]\n",
    "# print(animals)\n",
    "# print(main_ruler)\n",
    "friends = animals[(animals.ruler != main_ruler) & (animals.party_animal_value > 0)] # not directly ruled and positive contribution\n",
    "if DEMO:\n",
    "    print(friends)"
   ]
  },
  {
   "cell_type": "code",
   "execution_count": 6,
   "metadata": {},
   "outputs": [],
   "source": [
    "blacklist = []\n",
    "handled_rulers = []\n",
    "remaining_rulers = set(friends[\"name\"]).intersection(friends[\"ruler\"])"
   ]
  },
  {
   "cell_type": "code",
   "execution_count": 13,
   "metadata": {},
   "outputs": [],
   "source": [
    "for rule_person in remaining_rulers:\n",
    "    if rule_person in handled_rulers or rule_person in blacklist:\n",
    "        continue\n",
    "    # print(rule_person)\n",
    "    ruler_val = friends[friends.name == rule_person].iloc[0, 2]\n",
    "    subjects = friends[friends.ruler == rule_person]\n",
    "    subjects_val = sum(subjects[\"party_animal_value\"])\n",
    "    ruler_ruler = friends[friends.name == rule_person].iloc[0, 1]\n",
    "    frrr = ruler_ruler in remaining_rulers and ruler_ruler not in blacklist\n",
    "    if frrr:\n",
    "        subjects_val += friends[friends.name == ruler_ruler].iloc[0, 2]\n",
    "        handled_rulers.append(ruler_ruler)\n",
    "    if ruler_val >= subjects_val:\n",
    "        for s in subjects.iterrows():\n",
    "            subject = s[1]\n",
    "            blacklist.append(subject[\"name\"])\n",
    "        if frrr:\n",
    "            blacklist.append(ruler_ruler)\n",
    "    else:\n",
    "        blacklist.append(rule_person)"
   ]
  },
  {
   "cell_type": "code",
   "execution_count": 14,
   "metadata": {},
   "outputs": [
    {
     "name": "stdout",
     "output_type": "stream",
     "text": [
      "['Stew', 'Cristian', 'Hans']\n",
      "Tom\n",
      "Jacob\n",
      "Evan\n",
      "Felix\n",
      "John\n",
      "Bob\n",
      "Bill\n",
      "Bea\n",
      "Hailey\n",
      "Vale\n",
      "Jimmy\n",
      "Alexa\n",
      "What a party! You've got a massive 431 score!\n"
     ]
    }
   ],
   "source": [
    "if DEMO:\n",
    "    print(blacklist)\n",
    "party_value = 0\n",
    "for t in friends.iterrows():\n",
    "    row = t[1]\n",
    "    if row[\"name\"] not in blacklist:\n",
    "        print(row[\"name\"])\n",
    "        party_value += row[\"party_animal_value\"]\n",
    "print(\"What a party! You've got a massive\", party_value, \"score!\")"
   ]
  },
  {
   "cell_type": "code",
   "execution_count": null,
   "metadata": {},
   "outputs": [],
   "source": []
  }
 ],
 "metadata": {
  "kernelspec": {
   "display_name": "Python 3",
   "language": "python",
   "name": "python3"
  },
  "language_info": {
   "codemirror_mode": {
    "name": "ipython",
    "version": 3
   },
   "file_extension": ".py",
   "mimetype": "text/x-python",
   "name": "python",
   "nbconvert_exporter": "python",
   "pygments_lexer": "ipython3",
   "version": "3.7.4"
  }
 },
 "nbformat": 4,
 "nbformat_minor": 2
}
