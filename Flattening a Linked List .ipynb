{
 "cells": [
  {
   "cell_type": "markdown",
   "metadata": {},
   "source": [
    "Given a Linked List of size N, where every node represents a sub-linked-list and contains two pointers:\n",
    "(i) a next pointer to the next node,\n",
    "(ii) a bottom pointer to a linked list where this node is head.\n",
    "Each of the sub-linked-list is in sorted order.\n",
    "Flatten the Link List such that all the nodes appear in a single level while maintaining the sorted order. \n",
    "Note: The flattened list will be printed using the bottom pointer instead of next pointer."
   ]
  },
  {
   "cell_type": "markdown",
   "metadata": {},
   "source": [
    "Example 1:\n",
    "\n",
    "Input:\n",
    "5 -> 10 -> 19 -> 28\n",
    "|     |     |     | \n",
    "7     20    22   35\n",
    "|           |     | \n",
    "8          50    40\n",
    "|                 | \n",
    "30               45\n",
    "Output:  5-> 7-> 8- > 10 -> 19-> 20->\n",
    "22-> 28-> 30-> 35-> 40-> 45-> 50.\n",
    "Explanation:\n",
    "The resultant linked lists has every \n",
    "node in a single level.\n",
    "(Note: | represents the bottom pointer.)\n",
    " \n",
    "\n",
    "Example 2:\n",
    "\n",
    "Input:\n",
    "\n",
    "5 -> 10 -> 19 -> 28\n",
    "|          |                \n",
    "7          22   \n",
    "|          |                 \n",
    "8          50 \n",
    "|                           \n",
    "30  \n",
    "\n",
    "Output: 5->7->8->10->19->20->22->30->50\n",
    "Explanation:\n",
    "The resultant linked lists has every\n",
    "node in a single level.\n",
    "\n",
    "(Note: | represents the bottom pointer.)\n",
    " \n",
    "\n",
    "Your Task:\n",
    "You do not need to read input or print anything. Complete the function flatten() that takes the head of the linked list as input parameter and returns the head of flattened link list.\n",
    "\n",
    " \n",
    "\n",
    "Expected Time Complexity: O(N*M)\n",
    "Expected Auxiliary Space: O(1)\n",
    "\n",
    " \n",
    "\n",
    "Constraints:\n",
    "0 <= N <= 50\n",
    "1 <= Mi <= 20\n",
    "1 <= Element of linked list <= 103"
   ]
  },
  {
   "cell_type": "code",
   "execution_count": 1,
   "metadata": {},
   "outputs": [],
   "source": [
    "#create class for list\n",
    "class Node:\n",
    "    def __init__(self, data):\n",
    "        self.data = data\n",
    "        self.next = None\n",
    "        self.child = None"
   ]
  },
  {
   "cell_type": "code",
   "execution_count": 2,
   "metadata": {},
   "outputs": [],
   "source": [
    "# how we return Node\n",
    "def newNode(data):\n",
    "    return Node(data)"
   ]
  },
  {
   "cell_type": "code",
   "execution_count": 3,
   "metadata": {},
   "outputs": [],
   "source": [
    "def flattenlist(head):     \n",
    "    # base case\n",
    "    if not head:\n",
    "        return\n",
    "    #check tail\n",
    "    temp = head\n",
    "    while(temp.next != None):\n",
    "        temp = temp.next\n",
    "    currNode = head\n",
    "    \n",
    "    while(currNode != temp):\n",
    "        if(currNode.child):\n",
    "            temp.next = currNode.child\n",
    "            tmp = currNode.child\n",
    "            while(tmp.next):\n",
    "                tmp = tmp.next\n",
    "            temp = tmp\n",
    "        currNode = currNode.next"
   ]
  },
  {
   "cell_type": "code",
   "execution_count": 4,
   "metadata": {},
   "outputs": [],
   "source": [
    "def printList(head):\n",
    "    if not head:\n",
    "        return\n",
    "    while(head):\n",
    "        print(\"{}\".format(head.data), end = \" \")\n",
    "        head = head.next"
   ]
  },
  {
   "cell_type": "code",
   "execution_count": 6,
   "metadata": {},
   "outputs": [
    {
     "name": "stdout",
     "output_type": "stream",
     "text": [
      "Flattened list is: 10 5 12 7 11 4 20 13 17 6 2 16 9 8 3 19 15 "
     ]
    }
   ],
   "source": [
    "#Input:\n",
    "# 5 -> 10 -> 19 -> 28\n",
    "# |     |     |     | \n",
    "# 7     20    22   35\n",
    "# |           |     | \n",
    "# 8          50    40\n",
    "# |                 | \n",
    "# 30               45\n",
    "# create list\n",
    "# Child list of 5\n",
    "child5 = newNode(5)\n",
    "child5.child = newNode(7)\n",
    "child5.child = newNode(8)\n",
    "child5.child = newNode(30)\n",
    "\n",
    "     \n",
    "# Child List of 10\n",
    "head1 = newNode(4)\n",
    "head1.next = newNode(20)\n",
    "\n",
    "     \n",
    "# Child of 19\n",
    "child19 = newNode(19)\n",
    "child19.next = newNode(22)\n",
    "child19.next = newNode(50)\n",
    "\n",
    "# Child List of 28\n",
    "child28 = newNode(9)\n",
    "child28.next = newNode(8)\n",
    "child28.child = child9\n",
    " \n",
    "    # Child List of 7\n",
    "    head2 = newNode(17)\n",
    "    head2.next = newNode(6)\n",
    "    head2.child = child17\n",
    "     \n",
    "    # Main List\n",
    "    head = newNode(10)\n",
    "    head.child = head1\n",
    "    head.next = newNode(5)\n",
    "    head.next.next = newNode(12)\n",
    "    head.next.next.next = newNode(7)\n",
    "    head.next.next.next.child = head2\n",
    "    head.next.next.next.next = newNode(11)\n",
    " \n",
    "    flattenlist(head)\n",
    " \n",
    "    print(\"Flattened list is: \", end = \"\")\n",
    "    printList(head)"
   ]
  },
  {
   "cell_type": "code",
   "execution_count": null,
   "metadata": {},
   "outputs": [],
   "source": []
  }
 ],
 "metadata": {
  "kernelspec": {
   "display_name": "Python 3",
   "language": "python",
   "name": "python3"
  },
  "language_info": {
   "codemirror_mode": {
    "name": "ipython",
    "version": 3
   },
   "file_extension": ".py",
   "mimetype": "text/x-python",
   "name": "python",
   "nbconvert_exporter": "python",
   "pygments_lexer": "ipython3",
   "version": "3.7.4"
  }
 },
 "nbformat": 4,
 "nbformat_minor": 2
}
