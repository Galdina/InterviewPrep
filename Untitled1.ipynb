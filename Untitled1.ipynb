{
 "cells": [
  {
   "cell_type": "markdown",
   "metadata": {},
   "source": [
    "# Python class"
   ]
  },
  {
   "cell_type": "code",
   "execution_count": 15,
   "metadata": {},
   "outputs": [],
   "source": [
    "# example dog\n",
    "class Dog:\n",
    "    genus = \"Canis\"\n",
    "    family = \"Canidae\"\n",
    "\n",
    "    def __init__(self, breed, name):\n",
    "        self.breed = breed\n",
    "        self.name = name\n",
    "        self._nickname = name[0]\n",
    "    @classmethod\n",
    "    def from_tag(cls, tag_info):\n",
    "        breed = tag_info[\"breed\"]\n",
    "        name = tag_info[\"name\"]\n",
    "        return cls(breed, name)\n",
    "\n",
    "    @staticmethod\n",
    "    def can_bark():\n",
    "        print(\"Yes. All dogs can bark.\")\n",
    "    def bark(self):\n",
    "        print(\"The dog is barking.\")\n",
    "    \n",
    "    @property\n",
    "    def nickname(self):\n",
    "        return self._nickname\n",
    "    \n",
    "    @nickname.setter\n",
    "    def nickname(self, new_nickname):\n",
    "        self._nickname = new_nickname"
   ]
  },
  {
   "cell_type": "code",
   "execution_count": 16,
   "metadata": {},
   "outputs": [
    {
     "data": {
      "text/plain": [
       "['__class__',\n",
       " '__delattr__',\n",
       " '__dict__',\n",
       " '__dir__',\n",
       " '__doc__',\n",
       " '__eq__',\n",
       " '__format__',\n",
       " '__ge__',\n",
       " '__getattribute__',\n",
       " '__gt__',\n",
       " '__hash__',\n",
       " '__init__',\n",
       " '__init_subclass__',\n",
       " '__le__',\n",
       " '__lt__',\n",
       " '__module__',\n",
       " '__ne__',\n",
       " '__new__',\n",
       " '__reduce__',\n",
       " '__reduce_ex__',\n",
       " '__repr__',\n",
       " '__setattr__',\n",
       " '__sizeof__',\n",
       " '__str__',\n",
       " '__subclasshook__',\n",
       " '__weakref__',\n",
       " 'bark',\n",
       " 'can_bark',\n",
       " 'family',\n",
       " 'from_tag',\n",
       " 'genus',\n",
       " 'nickname']"
      ]
     },
     "execution_count": 16,
     "metadata": {},
     "output_type": "execute_result"
    }
   ],
   "source": [
    "dir(Dog)"
   ]
  },
  {
   "cell_type": "code",
   "execution_count": 17,
   "metadata": {},
   "outputs": [],
   "source": [
    "dog = Dog(\"Rottweiler\", \"Ada\")"
   ]
  },
  {
   "cell_type": "code",
   "execution_count": 18,
   "metadata": {},
   "outputs": [
    {
     "data": {
      "text/plain": [
       "'A'"
      ]
     },
     "execution_count": 18,
     "metadata": {},
     "output_type": "execute_result"
    }
   ],
   "source": [
    "dog.nickname"
   ]
  },
  {
   "cell_type": "code",
   "execution_count": 19,
   "metadata": {},
   "outputs": [],
   "source": [
    "dog.nickname = \"Azy\""
   ]
  },
  {
   "cell_type": "code",
   "execution_count": 20,
   "metadata": {},
   "outputs": [
    {
     "name": "stdout",
     "output_type": "stream",
     "text": [
      "Azy\n"
     ]
    }
   ],
   "source": [
    "print(dog.nickname)"
   ]
  },
  {
   "cell_type": "code",
   "execution_count": 21,
   "metadata": {},
   "outputs": [
    {
     "name": "stdout",
     "output_type": "stream",
     "text": [
      "<__main__.Dog object at 0x7f92e8dae610>\n"
     ]
    }
   ],
   "source": [
    "print(dog)"
   ]
  },
  {
   "cell_type": "code",
   "execution_count": 22,
   "metadata": {},
   "outputs": [],
   "source": [
    "kirk = [\"James Kirk\", 34, \"Captain\", 2265]\n",
    "spock = [\"Spock\", 35, \"Science Officer\", 2254]\n",
    "mccoy = [\"Leonard McCoy\", \"Chief Medical Officer\", 2266]"
   ]
  },
  {
   "cell_type": "code",
   "execution_count": 32,
   "metadata": {},
   "outputs": [],
   "source": [
    "class Cat:\n",
    "    # Class attribute\n",
    "    species = \"Canis familiaris\"\n",
    "\n",
    "    def __init__(self, name, age):\n",
    "        self.name = name\n",
    "        self.age = age\n",
    "    # Instance method\n",
    "    def description(self):\n",
    "        return f\"{self.name} is {self.age} years old\"\n",
    "\n",
    "    # Another instance method\n",
    "    def speak(self, sound):\n",
    "        return f\"{self.name} says {sound}\""
   ]
  },
  {
   "cell_type": "code",
   "execution_count": 33,
   "metadata": {},
   "outputs": [],
   "source": [
    "buddy = Cat(\"Buddy\", 9)\n",
    "miles = Cat(\"Miles\", 4)"
   ]
  },
  {
   "cell_type": "code",
   "execution_count": 27,
   "metadata": {},
   "outputs": [
    {
     "data": {
      "text/plain": [
       "<__main__.Cat at 0x7f92e8dc1690>"
      ]
     },
     "execution_count": 27,
     "metadata": {},
     "output_type": "execute_result"
    }
   ],
   "source": [
    "buddy"
   ]
  },
  {
   "cell_type": "code",
   "execution_count": 28,
   "metadata": {},
   "outputs": [
    {
     "data": {
      "text/plain": [
       "'Miles'"
      ]
     },
     "execution_count": 28,
     "metadata": {},
     "output_type": "execute_result"
    }
   ],
   "source": [
    "miles.name"
   ]
  },
  {
   "cell_type": "code",
   "execution_count": 34,
   "metadata": {},
   "outputs": [
    {
     "data": {
      "text/plain": [
       "'Miles is 4 years old'"
      ]
     },
     "execution_count": 34,
     "metadata": {},
     "output_type": "execute_result"
    }
   ],
   "source": [
    "miles.description()"
   ]
  },
  {
   "cell_type": "code",
   "execution_count": 29,
   "metadata": {},
   "outputs": [
    {
     "data": {
      "text/plain": [
       "'Canis familiaris'"
      ]
     },
     "execution_count": 29,
     "metadata": {},
     "output_type": "execute_result"
    }
   ],
   "source": [
    "buddy.species"
   ]
  },
  {
   "cell_type": "code",
   "execution_count": 35,
   "metadata": {},
   "outputs": [
    {
     "data": {
      "text/plain": [
       "'Miles says Mow Mew'"
      ]
     },
     "execution_count": 35,
     "metadata": {},
     "output_type": "execute_result"
    }
   ],
   "source": [
    "miles.speak(\"Mow Mew\")"
   ]
  },
  {
   "cell_type": "code",
   "execution_count": 37,
   "metadata": {},
   "outputs": [],
   "source": [
    "# How to define Python classes\n",
    "# Example file for working with classes\n",
    "class myClass():\n",
    "    def method1(self):\n",
    "        print (\"method1\")\n",
    "    \n",
    "    def method2(self,someString):\n",
    "        print (\"method2: \" + someString)"
   ]
  },
  {
   "cell_type": "code",
   "execution_count": 38,
   "metadata": {},
   "outputs": [
    {
     "name": "stdout",
     "output_type": "stream",
     "text": [
      "method1\n",
      "method2:  Testing is fun\n"
     ]
    }
   ],
   "source": [
    "def main():           \n",
    "  # exercise the class methods\n",
    "    c = myClass ()\n",
    "    c.method1()\n",
    "    c.method2(\" Testing is fun\")\n",
    "    \n",
    "if __name__== \"__main__\":\n",
    "    main()"
   ]
  },
  {
   "cell_type": "code",
   "execution_count": 39,
   "metadata": {},
   "outputs": [
    {
     "name": "stdout",
     "output_type": "stream",
     "text": [
      "23\n",
      "Anne\n"
     ]
    }
   ],
   "source": [
    "#definition of the class starts here  \n",
    "class Person:  \n",
    "    #initializing the variables  \n",
    "    name = \"\"  \n",
    "    age = 0  \n",
    "      \n",
    "    #defining constructor  \n",
    "    def __init__(self, personName, personAge):  \n",
    "        self.name = personName  \n",
    "        self.age = personAge  \n",
    "  \n",
    "    #defining class methods  \n",
    "    def showName(self):  \n",
    "        print(self.name)  \n",
    "  \n",
    "    def showAge(self):  \n",
    "        print(self.age)  \n",
    "          \n",
    "    #end of the class definition  \n",
    "\n",
    "    # Create an object of the class  \n",
    "person1 = Person(\"John\", 23)  \n",
    "#Create another object of the same class  \n",
    "person2 = Person(\"Anne\", 102)  \n",
    "#call member methods of the objects  \n",
    "person1.showAge()  \n",
    "person2.showName() "
   ]
  },
  {
   "cell_type": "code",
   "execution_count": 40,
   "metadata": {},
   "outputs": [],
   "source": [
    "class MyClass(object):\n",
    "    class_var = 1\n",
    "\n",
    "    def __init__(self, i_var):\n",
    "        self.i_var = i_var"
   ]
  },
  {
   "cell_type": "code",
   "execution_count": 42,
   "metadata": {},
   "outputs": [
    {
     "data": {
      "text/plain": [
       "(1, 2)"
      ]
     },
     "execution_count": 42,
     "metadata": {},
     "output_type": "execute_result"
    }
   ],
   "source": [
    "foo = MyClass(2)\n",
    "bar = MyClass(3)\n",
    "\n",
    "foo.class_var, foo.i_var\n",
    "## 1, 2"
   ]
  },
  {
   "cell_type": "code",
   "execution_count": 43,
   "metadata": {},
   "outputs": [
    {
     "data": {
      "text/plain": [
       "(1, 3)"
      ]
     },
     "execution_count": 43,
     "metadata": {},
     "output_type": "execute_result"
    }
   ],
   "source": [
    "bar.class_var, bar.i_var\n",
    "## 1, 3"
   ]
  },
  {
   "cell_type": "code",
   "execution_count": 44,
   "metadata": {},
   "outputs": [
    {
     "data": {
      "text/plain": [
       "1"
      ]
     },
     "execution_count": 44,
     "metadata": {},
     "output_type": "execute_result"
    }
   ],
   "source": [
    "MyClass.class_var ## <— This is key\n",
    "## 1"
   ]
  },
  {
   "cell_type": "code",
   "execution_count": 45,
   "metadata": {},
   "outputs": [
    {
     "data": {
      "text/plain": [
       "1"
      ]
     },
     "execution_count": 45,
     "metadata": {},
     "output_type": "execute_result"
    }
   ],
   "source": [
    "class MyClass1(object):\n",
    "    ## No need for dot syntax\n",
    "    class_var = 1\n",
    "\n",
    "    def __init__(self, i_var):\n",
    "        self.i_var = i_var\n",
    "\n",
    "## Need dot syntax as we've left scope of class namespace\n",
    "MyClass.class_var\n",
    "## 1"
   ]
  },
  {
   "cell_type": "code",
   "execution_count": 46,
   "metadata": {},
   "outputs": [
    {
     "data": {
      "text/plain": [
       "2"
      ]
     },
     "execution_count": 46,
     "metadata": {},
     "output_type": "execute_result"
    }
   ],
   "source": [
    "foo = MyClass(2)\n",
    "\n",
    "## Finds i_var in foo's instance namespace\n",
    "foo.i_var\n",
    "## 2"
   ]
  },
  {
   "cell_type": "code",
   "execution_count": 47,
   "metadata": {},
   "outputs": [
    {
     "data": {
      "text/plain": [
       "1"
      ]
     },
     "execution_count": 47,
     "metadata": {},
     "output_type": "execute_result"
    }
   ],
   "source": [
    "## Doesn't find class_var in instance namespace…\n",
    "## So look's in class namespace (MyClass.__dict__)\n",
    "foo.class_var\n",
    "## 1"
   ]
  },
  {
   "cell_type": "code",
   "execution_count": 48,
   "metadata": {},
   "outputs": [],
   "source": [
    "def instlookup(inst, name):\n",
    "    ## simplified algorithm...\n",
    "    if inst.__dict__.has_key(name):\n",
    "        return inst.__dict__[name]\n",
    "    else:\n",
    "        return inst.__class__.__dict__[name]"
   ]
  },
  {
   "cell_type": "code",
   "execution_count": 49,
   "metadata": {},
   "outputs": [
    {
     "data": {
      "text/plain": [
       "2"
      ]
     },
     "execution_count": 49,
     "metadata": {},
     "output_type": "execute_result"
    }
   ],
   "source": [
    "foo = MyClass(2)\n",
    "foo.class_var\n",
    "## 1\n",
    "MyClass.class_var = 2\n",
    "foo.class_var"
   ]
  },
  {
   "cell_type": "code",
   "execution_count": 50,
   "metadata": {},
   "outputs": [
    {
     "data": {
      "text/plain": [
       "3.14159"
      ]
     },
     "execution_count": 50,
     "metadata": {},
     "output_type": "execute_result"
    }
   ],
   "source": [
    "class Circle(object):\n",
    "    pi = 3.14159\n",
    "\n",
    "    def __init__(self, radius):\n",
    "        self.radius = radius\n",
    "\n",
    "    def area(self):\n",
    "        return Circle.pi * self.radius * self.radius\n",
    "\n",
    "Circle.pi"
   ]
  },
  {
   "cell_type": "code",
   "execution_count": null,
   "metadata": {},
   "outputs": [],
   "source": []
  }
 ],
 "metadata": {
  "kernelspec": {
   "display_name": "Python 3",
   "language": "python",
   "name": "python3"
  },
  "language_info": {
   "codemirror_mode": {
    "name": "ipython",
    "version": 3
   },
   "file_extension": ".py",
   "mimetype": "text/x-python",
   "name": "python",
   "nbconvert_exporter": "python",
   "pygments_lexer": "ipython3",
   "version": "3.7.4"
  }
 },
 "nbformat": 4,
 "nbformat_minor": 2
}
