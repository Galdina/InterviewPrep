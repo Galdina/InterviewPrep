{
 "cells": [
  {
   "cell_type": "markdown",
   "metadata": {},
   "source": [
    "Huffman coding assigns variable length codewords to fixed length input characters based on their frequencies. More frequent characters are assigned shorter codewords and less frequent characters are assigned longer codewords. All edges along the path to a character contain a code digit. If they are on the left side of the tree, they will be a 0 (zero). If on the right, they'll be a 1 (one). Only the leaves will contain a letter and its frequency count. All other nodes will contain a null instead of a character, and the count of the frequency of all of it and its descendant characters."
   ]
  },
  {
   "cell_type": "markdown",
   "metadata": {},
   "source": [
    "Input Data : AAAAAABCCCCCCDDEEEEE\n",
    "Frequencies : A: 6, B: 1, C: 6, D: 2, E: 5\n",
    "Encoded Data : \n",
    "0000000000001100101010101011111111010101010\n",
    "Huffman Tree: '#' is the special character used\n",
    "              for internal nodes as character field\n",
    "              is not needed for internal nodes. \n",
    "               #(20)\n",
    "             /       \\\n",
    "        #(12)         #(8)\n",
    "     /      \\        /     \\\n",
    "    A(6)     C(6) E(5)     #(3)\n",
    "                         /     \\\n",
    "                       B(1)    D(2)  \n",
    "Code of 'A' is '00', code of 'C' is '01', ..\n",
    "Decoded Data : AAAAAABCCCCCCDDEEEEE\n"
   ]
  },
  {
   "cell_type": "markdown",
   "metadata": {},
   "source": [
    "To decode the encoded data we require the Huffman tree. We iterate through the binary encoded data. To find character corresponding to current bits, we use following simple steps.\n",
    "\n",
    "We start from root and do following until a leaf is found.\n",
    "If current bit is 0, we move to left node of the tree.\n",
    "If the bit is 1, we move to right node of the tree.\n",
    "If during traversal, we encounter a leaf node, we print character of that particular leaf node and then again continue the iteration of the encoded data starting from step 1.\n",
    "The below code takes a string as input, it encodes it and save in a variable encodedString. Then it decodes it and print the original string.\n",
    "\n",
    "The below code performs full Huffman Encoding and Decoding of a given input data."
   ]
  },
  {
   "cell_type": "code",
   "execution_count": 3,
   "metadata": {},
   "outputs": [
    {
     "name": "stdout",
     "output_type": "stream",
     "text": [
      "1001011\n",
      "1001011\n"
     ]
    },
    {
     "data": {
      "text/plain": [
       "'1001011'"
      ]
     },
     "execution_count": 3,
     "metadata": {},
     "output_type": "execute_result"
    }
   ],
   "source": [
    "import queue as Queue\n",
    "\n",
    "cntr = 0\n",
    "\n",
    "\n",
    "class Node:\n",
    "    def __init__(self, freq, data):\n",
    "        self.freq = freq\n",
    "        self.data = data\n",
    "        self.left = None\n",
    "        self.right = None\n",
    "        global cntr\n",
    "        self._count = cntr\n",
    "        cntr = cntr + 1\n",
    "\n",
    "    def __lt__(self, other):\n",
    "        if self.freq != other.freq:\n",
    "            return self.freq < other.freq\n",
    "        return self._count < other._count\n",
    "\n",
    "\n",
    "def huffman_hidden():  # builds the tree and returns root\n",
    "    q = Queue.PriorityQueue()\n",
    "\n",
    "    for key in freq:\n",
    "        q.put((freq[key], key, Node(freq[key], key)))\n",
    "\n",
    "    while q.qsize() != 1:\n",
    "        a = q.get()\n",
    "        b = q.get()\n",
    "        obj = Node(a[0] + b[0], '\\0')\n",
    "        obj.left = a[2]\n",
    "        obj.right = b[2]\n",
    "        q.put((obj.freq, obj.data, obj))\n",
    "\n",
    "    root = q.get()\n",
    "    root = root[2]  # contains root object\n",
    "    return root\n",
    "\n",
    "\n",
    "def dfs_hidden(obj, already):\n",
    "    if(obj is None):\n",
    "        return\n",
    "    elif(obj.data != '\\0'):\n",
    "        code_hidden[obj.data] = already\n",
    "\n",
    "    dfs_hidden(obj.right, already + \"1\")\n",
    "    dfs_hidden(obj.left, already + \"0\")\n",
    "\n",
    "\n",
    "\"\"\"class Node:\n",
    "    def __init__(self, freq,data):\n",
    "        self.freq= freq\n",
    "        self.data=data\n",
    "        self.left = None\n",
    "        self.right = None\n",
    "\"\"\"\n",
    "\n",
    "\n",
    "def Huffman_decoding(root, encodedString):\n",
    "    decodedString = \"\"\n",
    "    currentNode = root\n",
    "\n",
    "    for char in encodedString:\n",
    "        if char == \"0\" and currentNode.left:\n",
    "            currentNode = currentNode.left\n",
    "        elif char == \"1\" and currentNode.right:\n",
    "            currentNode = currentNode.right\n",
    "\n",
    "        if isLeaf(currentNode):\n",
    "            decodedString += currentNode.data\n",
    "            currentNode = root\n",
    "\n",
    "    print(decodedString)\n",
    "    return decodedString\n",
    "\n",
    "\n",
    "def isLeaf(node):\n",
    "    return node.left is None and node.right is None\n",
    "\n",
    "\n",
    "# Generated Code\n",
    "# Can not modify below this line\n",
    "ip = input()\n",
    "freq = {}  # maps each character to its frequency\n",
    "\n",
    "cntr = 0\n",
    "\n",
    "for ch in ip:\n",
    "    if(freq.get(ch) is None):\n",
    "        freq[ch] = 1\n",
    "    else:\n",
    "        freq[ch] += 1\n",
    "\n",
    "root = huffman_hidden()  # contains root of huffman tree\n",
    "\n",
    "code_hidden = {}  # contains code for each object\n",
    "\n",
    "dfs_hidden(root, \"\")\n",
    "\n",
    "if len(code_hidden) == 1:  # if there is only one character in the i/p\n",
    "    for key in code_hidden:\n",
    "        code_hidden[key] = \"0\"\n",
    "\n",
    "toBeDecoded = \"\"\n",
    "\n",
    "for ch in ip:\n",
    "    toBeDecoded += code_hidden[ch]\n",
    "\n",
    "Huffman_decoding(root, toBeDecoded)"
   ]
  },
  {
   "cell_type": "code",
   "execution_count": null,
   "metadata": {},
   "outputs": [],
   "source": []
  }
 ],
 "metadata": {
  "kernelspec": {
   "display_name": "Python 3",
   "language": "python",
   "name": "python3"
  },
  "language_info": {
   "codemirror_mode": {
    "name": "ipython",
    "version": 3
   },
   "file_extension": ".py",
   "mimetype": "text/x-python",
   "name": "python",
   "nbconvert_exporter": "python",
   "pygments_lexer": "ipython3",
   "version": "3.7.4"
  }
 },
 "nbformat": 4,
 "nbformat_minor": 2
}
