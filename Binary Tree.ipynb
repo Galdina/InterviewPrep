{
 "cells": [
  {
   "cell_type": "markdown",
   "metadata": {},
   "source": [
    "// wooon\n",
    "// lets goooo!!!\n",
    "\n",
    "// (function main() {\n",
    "//     console.log('Hello World!');\n",
    "// }());\n",
    "\n",
    "// Given the root of a binary tree, return the sum of every tree node's tilt.\n",
    "\n",
    "// The tilt of a tree node is the absolute difference between the sum of all left subtree node values and all right subtree node values. If a node does not have a left child, then the sum of the left subtree node values is treated as 0. The rule is similar if there the node does not have a right child.\n",
    "\n",
    "// Constraints:\n",
    "\n",
    "//     The number of nodes in the tree is in the range [0, 104].\n",
    "//     -1000 <= Node.val <= 1000\n",
    "\n",
    " \n",
    "\n",
    "// Example 1:\n",
    "\n",
    "// Input: root = [1,2,3]\n",
    "\n",
    "//            1\n",
    "//          /   \\\n",
    "//         2     3\n",
    "\n",
    "// Output: 1\n",
    "// Explanation: \n",
    "// Tilt of node 2 : |0-0| = 0 (no children)\n",
    "// Tilt of node 3 : |0-0| = 0 (no children)\n",
    "// Tile of node 1 : |2-3| = 1 (left subtree is just left child, so sum is 2; right subtree is just right child, so sum is 3)\n",
    "// Sum of every tilt : 0 + 0 + 1 = 1\n",
    "\n",
    "\n",
    "// Input: root = [4,2,9,3,5,null,7]\n",
    "// Output: 15\n",
    "// Explanation: \n",
    "// Tilt of node 3 : |0-0| = 0 (no children)\n",
    "// Tilt of node 5 : |0-0| = 0 (no children)\n",
    "// Tilt of node 7 : |0-0| = 0 (no children)\n",
    "// Tilt of node 2 : |3-5| = 2 (left subtree is just left child, so sum is 3; right subtree is just right child, so sum is 5)\n",
    "// Tilt of node 9 : |0-7| = 7 (no left child, so sum is 0; right subtree is just right child, so sum is 7)\n",
    "// Tilt of node 4 : |(3+5+2)-(9+7)| = |10-16| = 6 (left subtree values are 3, 5, and 2, which sums to 10; right subtree values are 9 and 7, which sums to 16)\n",
    "// Sum of every tilt : 0 + 0 + 0 + 2 + 7 + 6 = 15\n",
    "\n",
    "// Example 3:\n",
    "\n",
    "// Input: root = [21,7,14,1,1,2,2,3,3]\n",
    "// Output: 9\n",
    "\n",
    "// Possible solution: starting from the bottom(?) subtract each child from it's sibling\n",
    "// place that value in the sibling's parent\n",
    "\n",
    "// Plan\n",
    "// 1) We need a base case - for DFS --> when the node is null, return zero\n",
    "// when we get to a node without children (leaf node), return 0 as a base case\n",
    "// 2) so the recusrsive case can calculate the tilt\n",
    "// calcuating tilt is the recursive case\n",
    "// 3) Get the sum value\n",
    "\n",
    "const getTilt = (root) => {\n",
    "    sumOfTilt = 0;\n",
    "    \n",
    "    let calculateTilt = (root) => {\n",
    "        if (root === null) {\n",
    "           return 0;\n",
    "        } \n",
    "        sumOfLeft = calculateTilt(root.left);\n",
    "        sumOfRight = calculateTilt(root.right);\n",
    "        tilt = Math.abs(sumOfLeft - sumOfRight);\n",
    "        sumOfTilt += tilt;\n",
    "        return sumOfLeft + sumOfRight + root.val;\n",
    "    }\n",
    "    calculateTilt(root);\n",
    "    \n",
    "    return sumOfTilt;\n",
    "};\n",
    "\n",
    "// We find the tilt, but now we need to add up the tilts\n",
    "\n",
    "console.log(getTilt(root));"
   ]
  },
  {
   "cell_type": "code",
   "execution_count": 1,
   "metadata": {},
   "outputs": [],
   "source": [
    "# Definition for a binary tree node.\n",
    "class TreeNode:\n",
    "    def __init__(self, val=0, left=None, right=None):        \n",
    "        self.val = val\n",
    "        self.left = left\n",
    "        self.right = right\n",
    "        \n",
    "        \n",
    "class Solution:\n",
    "    def findTilt(self, root: TreeNode) -> int:\n",
    "        total_tilt = 0\n",
    "\n",
    "        def valueSum(node):\n",
    "            nonlocal total_tilt\n",
    "\n",
    "            if not node:\n",
    "                return 0\n",
    "\n",
    "            left_sum = valueSum(node.left)\n",
    "            right_sum = valueSum(node.right)\n",
    "            tilt = abs(left_sum - right_sum)\n",
    "            total_tilt += tilt\n",
    "\n",
    "            return left_sum + right_sum + node.val\n",
    "\n",
    "        valueSum(root)\n",
    "\n",
    "        return total_tilt\n",
    "        "
   ]
  },
  {
   "cell_type": "code",
   "execution_count": 4,
   "metadata": {},
   "outputs": [
    {
     "name": "stdout",
     "output_type": "stream",
     "text": [
      "The Tilt of whole tree is 15\n"
     ]
    }
   ],
   "source": [
    "root = None\n",
    "root = TreeNode(4)  \n",
    "root.left = TreeNode(2)  \n",
    "root.right = TreeNode(9)  \n",
    "root.left.left = TreeNode(3)  \n",
    "root.left.right = TreeNode(8)  \n",
    "root.right.right = TreeNode(7) \n",
    "s= Solution()\n",
    "print(\"The Tilt of whole tree is\",  s.findTilt(root)) "
   ]
  },
  {
   "cell_type": "code",
   "execution_count": 5,
   "metadata": {},
   "outputs": [
    {
     "name": "stdout",
     "output_type": "stream",
     "text": [
      "The Tilt of whole tree is 1\n"
     ]
    }
   ],
   "source": [
    "root = None\n",
    "root = TreeNode(1)  \n",
    "root.left = TreeNode(2)  \n",
    "root.right = TreeNode(3)  \n",
    "\n",
    "s= Solution()\n",
    "print(\"The Tilt of whole tree is\",  s.findTilt(root)) "
   ]
  },
  {
   "cell_type": "code",
   "execution_count": null,
   "metadata": {},
   "outputs": [],
   "source": []
  }
 ],
 "metadata": {
  "kernelspec": {
   "display_name": "Python 3",
   "language": "python",
   "name": "python3"
  },
  "language_info": {
   "codemirror_mode": {
    "name": "ipython",
    "version": 3
   },
   "file_extension": ".py",
   "mimetype": "text/x-python",
   "name": "python",
   "nbconvert_exporter": "python",
   "pygments_lexer": "ipython3",
   "version": "3.7.4"
  }
 },
 "nbformat": 4,
 "nbformat_minor": 2
}
