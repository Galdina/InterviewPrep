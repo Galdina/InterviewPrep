{
 "cells": [
  {
   "cell_type": "markdown",
   "metadata": {},
   "source": [
    "# Next Permutation\n",
    "\n",
    "Implement next permutation, which rearranges numbers into the lexicographically next greater permutation of numbers.\n",
    "\n",
    "If such an arrangement is not possible, it must rearrange it as the lowest possible order (i.e., sorted in ascending order).\n",
    "\n",
    "The replacement must be in place and use only constant extra memory.\n",
    "\n",
    " \n",
    "\n",
    "### Example 1:\n",
    "\n",
    "Input: nums = [1,2,3]\n",
    "\n",
    "Output: [1,3,2]\n",
    "\n",
    "### Example 2:\n",
    "\n",
    "Input: nums = [3,2,1]\n",
    "\n",
    "Output: [1,2,3]\n",
    "\n",
    "### Example 3:\n",
    "\n",
    "Input: nums = [1,1,5]\n",
    "\n",
    "Output: [1,5,1]\n",
    "\n",
    "### Example 4:\n",
    "\n",
    "Input: nums = [1]\n",
    "\n",
    "Output: [1]\n",
    " \n",
    "\n",
    "### Constraints:\n",
    "\n",
    "1 <= nums.length <= 100\n",
    "\n",
    "0 <= nums[i] <= 100"
   ]
  },
  {
   "cell_type": "code",
   "execution_count": 1,
   "metadata": {},
   "outputs": [],
   "source": [
    "import bisect\n",
    "class Solution:\n",
    "    def next_permutation(self, nums):\n",
    "        self.nums = nums\n",
    "        left_index_to_swap = self.find_rightest_smaller_index()\n",
    "        if left_index_to_swap == -1:\n",
    "            self.reverse_list()\n",
    "        else:\n",
    "            right_index_to_swap = self.find_first_element_bigger(nums[left_index_to_swap])\n",
    "            nums[right_index_to_swap], nums[left_index_to_swap] = nums[left_index_to_swap] , nums[right_index_to_swap]\n",
    "            self.reverse_list(left_index_to_swap+1) \n",
    "            \n",
    "    def find_rightest_smaller_index(self):\n",
    "        for i in range(len(self.nums)-2,-1,-1):\n",
    "            if self.nums[i+1] > self.nums[i]:\n",
    "                return i\n",
    "        else:\n",
    "            return -1\n",
    "    \n",
    "    def find_first_element_bigger(self,target):\n",
    "        for i in range(len(self.nums)-1,-1,-1):\n",
    "            if self.nums[i] > target:\n",
    "                return i\n",
    "            \n",
    "    def reverse_list(self,l=0):\n",
    "        n = (len(self.nums) - l) // 2\n",
    "        for i in range(n):\n",
    "            self.nums[l+i], self.nums[len(self.nums)-i-1] = self.nums[len(self.nums)-i-1], self.nums[l+i]"
   ]
  },
  {
   "cell_type": "code",
   "execution_count": 2,
   "metadata": {},
   "outputs": [
    {
     "name": "stdout",
     "output_type": "stream",
     "text": [
      "None\n"
     ]
    }
   ],
   "source": [
    "array = [3,2,1]\n",
    "sol = Solution()\n",
    "print(sol.next_permutation(array))"
   ]
  },
  {
   "cell_type": "code",
   "execution_count": 15,
   "metadata": {},
   "outputs": [],
   "source": [
    "def nextPermutation(nums):\n",
    "    i = l = len(nums)-1\n",
    "    while i > 0:\n",
    "        # find the right most pair where nums[i] > nums[i-1]\n",
    "        if nums[i] > nums[i-1]:\n",
    "            tmp = 0\n",
    "            for j in range(l, i-1, -1):\n",
    "                if nums[j] > nums[i-1]:\n",
    "                    tmp = j\n",
    "                    break\n",
    "            # exchange nums[i-1] and the right most element which larger than nums[i-1] \n",
    "            nums[i-1], nums[tmp] = nums[tmp], nums[i-1]\n",
    "            # reverse from i to the end\n",
    "            for j in range(i, int(1+i+(l-i)/2)):\n",
    "                nums[j], nums[l+i-j] = nums[l+i-j], nums[j]\n",
    "            break\n",
    "        i -= 1\n",
    "    # if nums are in descending order\n",
    "    if i == 0:\n",
    "        nums.reverse()"
   ]
  },
  {
   "cell_type": "code",
   "execution_count": 16,
   "metadata": {},
   "outputs": [
    {
     "name": "stdout",
     "output_type": "stream",
     "text": [
      "None\n"
     ]
    }
   ],
   "source": [
    "array = [1,2,3,4]\n",
    "print(nextPermutation(array))"
   ]
  },
  {
   "cell_type": "code",
   "execution_count": null,
   "metadata": {},
   "outputs": [],
   "source": []
  }
 ],
 "metadata": {
  "kernelspec": {
   "display_name": "Python 3",
   "language": "python",
   "name": "python3"
  },
  "language_info": {
   "codemirror_mode": {
    "name": "ipython",
    "version": 3
   },
   "file_extension": ".py",
   "mimetype": "text/x-python",
   "name": "python",
   "nbconvert_exporter": "python",
   "pygments_lexer": "ipython3",
   "version": "3.7.4"
  }
 },
 "nbformat": 4,
 "nbformat_minor": 2
}
