{
 "cells": [
  {
   "cell_type": "markdown",
   "metadata": {},
   "source": [
    "# 1. Rank of Matrix"
   ]
  },
  {
   "cell_type": "markdown",
   "metadata": {},
   "source": [
    "Write a program to find the rank of a 3x3 Matrix.\n",
    "\n",
    "**Input:** The first line contains an integer 'T' denoting the total number of test cases. Each test case consists of 3 lines and each line consists of 3 integers. First 3 lines denotes a matrix of whose rank is to be determined.  \n",
    "**Output:** Rank of the matrix is displayed in one line.\n",
    "\n",
    "**Constraints:**\n",
    "\n",
    "1 <=T<= 100\n",
    "\n",
    "-100 <=N<= 100\n",
    "\n",
    "**Example:**\n",
    "\n",
    "*Input: *\n",
    "2\n",
    "10 20 10\n",
    "-20 -30 10\n",
    "30 50 0\n",
    "2 4 3\n",
    "1 0 9\n",
    "9 6 8\n",
    "\n",
    "*Output:*\n",
    "\n",
    "2\n",
    "3"
   ]
  },
  {
   "cell_type": "markdown",
   "metadata": {},
   "source": [
    "In other words rank of A is the largest order of any non-zero minor in A where order of a minor is the side-length of the square sub-matrix of which it is determinant.\n",
    "\n",
    "So if M < N then maximum rank of A can be M else it can be N, in general rank of matrix can’t be greater than min(M, N).\n",
    "\n",
    "The rank of a matrix would be zero only if the matrix had no non-zero elements. If a matrix had even one non-zero element, its minimum rank would be one."
   ]
  },
  {
   "cell_type": "code",
   "execution_count": 2,
   "metadata": {},
   "outputs": [],
   "source": [
    "class rankMatrix(object): \n",
    "    def __init__(self, Matrix): \n",
    "        self.R = len(Matrix) \n",
    "        self.C = len(Matrix[0]) \n",
    "          \n",
    "    # changing two rows in the matrix\n",
    "    def swap(self, Matrix, row1, row2, col): \n",
    "        for i in range(col): \n",
    "            temp = Matrix[row1][i] \n",
    "            Matrix[row1][i] = Matrix[row2][i] \n",
    "            Matrix[row2][i] = temp \n",
    "              \n",
    "    # show a matrix \n",
    "    def Display(self, Matrix, row, col): \n",
    "        for i in range(row): \n",
    "            for j in range(col): \n",
    "                print (\" \" + str(Matrix[i][j])) \n",
    "            print ('\\n') \n",
    "            \n",
    "    def rankOfMatrix(self, Matrix): \n",
    "        rank = self.C \n",
    "        for row in range(0, rank, 1): \n",
    "            if Matrix[row][row] != 0: \n",
    "                for col in range(0, self.R, 1): \n",
    "                    if col != row: \n",
    "                        multiplier = (Matrix[col][row] /\n",
    "                                      Matrix[row][row]) \n",
    "                        for i in range(rank): \n",
    "                            Matrix[col][i] -= (multiplier *\n",
    "                                               Matrix[row][i]) \n",
    "            else: \n",
    "                reduce = True\n",
    "                for i in range(row + 1, self.R, 1): \n",
    "                    if Matrix[i][row] != 0: \n",
    "                        self.swap(Matrix, row, i, rank) \n",
    "                        reduce = False\n",
    "                        break\n",
    "                if reduce: \n",
    "                    rank -= 1\n",
    "                    for i in range(0, self.R, 1): \n",
    "                        Matrix[i][row] = Matrix[i][rank] \n",
    "                row -= 1\n",
    "        return (rank) "
   ]
  },
  {
   "cell_type": "code",
   "execution_count": 3,
   "metadata": {},
   "outputs": [
    {
     "name": "stdout",
     "output_type": "stream",
     "text": [
      "Rank of the Matrix is: 2\n"
     ]
    }
   ],
   "source": [
    "Matrix = [[10, 20, 10], [-20, -30, 10], [30, 50, 0]] \n",
    "RankMatrix = rankMatrix(Matrix) \n",
    "print (\"Rank of the Matrix is:\",  (RankMatrix.rankOfMatrix(Matrix)))"
   ]
  },
  {
   "cell_type": "markdown",
   "metadata": {},
   "source": [
    "# Nearly Sorted Algorithm"
   ]
  },
  {
   "cell_type": "markdown",
   "metadata": {},
   "source": [
    "Given an array of n elements, where each element is at most k away from its target position. The task is to print array in sorted form.\n",
    "\n",
    "**Input:**\n",
    "\n",
    "First line consists of T test cases. First line of every test case consists of two integers N and K, denoting number of elements in array and at most k positions away from its target position respectively. Second line of every test case consists of elements of array.\n",
    "\n",
    "**Output:**\n",
    "\n",
    "Single line output to print the sorted array.\n",
    "\n",
    "**Constraints:**\n",
    "\n",
    "1<=T<=100\n",
    "\n",
    "1<=N<=100\n",
    "\n",
    "1<=K<=N\n",
    "\n",
    "### Example:\n",
    "**Input:**\n",
    "\n",
    "2\n",
    "\n",
    "3 3\n",
    "\n",
    "2 1 3\n",
    "\n",
    "6 3\n",
    "\n",
    "2 6 3 12 56 8\n",
    "\n",
    "**Output:**\n",
    "\n",
    "1 2 3\n",
    "\n",
    "2 3 6 8 12 56\n"
   ]
  },
  {
   "cell_type": "code",
   "execution_count": 6,
   "metadata": {},
   "outputs": [],
   "source": [
    "def insertionSort(arr, size):\n",
    "    i, key, j = 0, 0, 0\n",
    "    for i in range(size):\n",
    "        key = arr[i] \n",
    "        j = i-1 \n",
    "    # We should move elements of arr[0..i-1], that aregreater than key, to one position ahead of their current position. \n",
    "    # loop will run at most k times \n",
    "        while j >= 0 and arr[j] > key:\n",
    "            arr[j + 1] = arr[j] \n",
    "            j = j - 1\n",
    "        arr[j + 1] = key\n",
    "    return arr"
   ]
  },
  {
   "cell_type": "markdown",
   "metadata": {},
   "source": [
    "Following is the detailed process that uses Heap. \n",
    "\n",
    "1) Create a Min Heap of size k+1 with first k+1 elements. This will take O(k) time (See this GFact) \n",
    "\n",
    "2) One by one remove min element from heap, put it in result array, and add a new element to heap from remaining elements.\n",
    "\n",
    "Removing an element and adding a new element to min heap will take Logk time. \n",
    "So overall complexity will be **O(k) + O((n-k)*logK)**\n",
    " "
   ]
  },
  {
   "cell_type": "code",
   "execution_count": 7,
   "metadata": {},
   "outputs": [
    {
     "name": "stdout",
     "output_type": "stream",
     "text": [
      "[2, 3, 6, 8, 12, 56]\n"
     ]
    }
   ],
   "source": [
    "# Driver Code\n",
    "k = 3\n",
    "arr = [2, 6, 3, 12, 56, 8]\n",
    "n = len(arr)\n",
    "print(insertionSort(arr, n))"
   ]
  },
  {
   "cell_type": "code",
   "execution_count": null,
   "metadata": {},
   "outputs": [],
   "source": []
  }
 ],
 "metadata": {
  "kernelspec": {
   "display_name": "Python 3",
   "language": "python",
   "name": "python3"
  },
  "language_info": {
   "codemirror_mode": {
    "name": "ipython",
    "version": 3
   },
   "file_extension": ".py",
   "mimetype": "text/x-python",
   "name": "python",
   "nbconvert_exporter": "python",
   "pygments_lexer": "ipython3",
   "version": "3.7.4"
  }
 },
 "nbformat": 4,
 "nbformat_minor": 2
}
